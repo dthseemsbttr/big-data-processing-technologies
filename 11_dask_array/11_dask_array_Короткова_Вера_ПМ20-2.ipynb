{
 "cells": [
  {
   "cell_type": "markdown",
   "metadata": {},
   "source": [
    "# Dask Array"
   ]
  },
  {
   "cell_type": "markdown",
   "metadata": {},
   "source": [
    "__Автор задач: Блохин Н.В. (NVBlokhin@fa.ru)__\n",
    "\n",
    "Материалы:\n",
    "* Макрушин С.В. Лекция \"Dask\"\n",
    "* https://docs.dask.org/en/latest/array.html"
   ]
  },
  {
   "cell_type": "code",
   "execution_count": 38,
   "metadata": {},
   "outputs": [
    {
     "name": "stdout",
     "output_type": "stream",
     "text": [
      "Requirement already satisfied: graphviz in c:\\anaconda\\lib\\site-packages (0.20.1)\n"
     ]
    }
   ],
   "source": [
    "!pip install graphviz "
   ]
  },
  {
   "cell_type": "markdown",
   "metadata": {},
   "source": [
    "## Задачи для совместного разбора"
   ]
  },
  {
   "cell_type": "markdown",
   "metadata": {},
   "source": [
    "1. Создайте массив размерностью 1000 на 300000, заполненный числами из стандартного нормального распределения. Исследуйте основные характеристики полученного массива. Визуализируйте граф вычисления задачи."
   ]
  },
  {
   "cell_type": "code",
   "execution_count": 2,
   "metadata": {},
   "outputs": [],
   "source": [
    "import numpy as np\n",
    "import h5py\n",
    "with h5py.File(\"demo.h5\", \"w\") as hdf:\n",
    "    hdf.create_dataset('arr', data=np.random.normal(0, 1, size = (1000, 300_000)))"
   ]
  },
  {
   "cell_type": "code",
   "execution_count": 3,
   "metadata": {},
   "outputs": [
    {
     "data": {
      "text/plain": [
       "<HDF5 dataset \"arr\": shape (1000, 300000), type \"<f8\">"
      ]
     },
     "execution_count": 3,
     "metadata": {},
     "output_type": "execute_result"
    }
   ],
   "source": [
    "# with h5py.File(\"demo.h5\", \"r\") as hdf:\n",
    "#     # ...\n",
    "# # ...\n",
    "\n",
    "hdf = h5py.File(\"demo.h5\", \"r\")\n",
    "dset = hdf[\"arr\"]\n",
    "dset"
   ]
  },
  {
   "cell_type": "code",
   "execution_count": 4,
   "metadata": {},
   "outputs": [
    {
     "data": {
      "text/html": [
       "<table>\n",
       "<tr>\n",
       "<td>\n",
       "<table>\n",
       "  <thead>\n",
       "    <tr><td> </td><th> Array </th><th> Chunk </th></tr>\n",
       "  </thead>\n",
       "  <tbody>\n",
       "    <tr><th> Bytes </th><td> 2.40 GB </td> <td> 160.00 MB </td></tr>\n",
       "    <tr><th> Shape </th><td> (1000, 300000) </td> <td> (1000, 20000) </td></tr>\n",
       "    <tr><th> Count </th><td> 16 Tasks </td><td> 15 Chunks </td></tr>\n",
       "    <tr><th> Type </th><td> float64 </td><td> numpy.ndarray </td></tr>\n",
       "  </tbody>\n",
       "</table>\n",
       "</td>\n",
       "<td>\n",
       "<svg width=\"170\" height=\"75\" style=\"stroke:rgb(0,0,0);stroke-width:1\" >\n",
       "\n",
       "  <!-- Horizontal lines -->\n",
       "  <line x1=\"0\" y1=\"0\" x2=\"120\" y2=\"0\" style=\"stroke-width:2\" />\n",
       "  <line x1=\"0\" y1=\"25\" x2=\"120\" y2=\"25\" style=\"stroke-width:2\" />\n",
       "\n",
       "  <!-- Vertical lines -->\n",
       "  <line x1=\"0\" y1=\"0\" x2=\"0\" y2=\"25\" style=\"stroke-width:2\" />\n",
       "  <line x1=\"8\" y1=\"0\" x2=\"8\" y2=\"25\" />\n",
       "  <line x1=\"16\" y1=\"0\" x2=\"16\" y2=\"25\" />\n",
       "  <line x1=\"24\" y1=\"0\" x2=\"24\" y2=\"25\" />\n",
       "  <line x1=\"32\" y1=\"0\" x2=\"32\" y2=\"25\" />\n",
       "  <line x1=\"40\" y1=\"0\" x2=\"40\" y2=\"25\" />\n",
       "  <line x1=\"48\" y1=\"0\" x2=\"48\" y2=\"25\" />\n",
       "  <line x1=\"56\" y1=\"0\" x2=\"56\" y2=\"25\" />\n",
       "  <line x1=\"64\" y1=\"0\" x2=\"64\" y2=\"25\" />\n",
       "  <line x1=\"72\" y1=\"0\" x2=\"72\" y2=\"25\" />\n",
       "  <line x1=\"80\" y1=\"0\" x2=\"80\" y2=\"25\" />\n",
       "  <line x1=\"88\" y1=\"0\" x2=\"88\" y2=\"25\" />\n",
       "  <line x1=\"96\" y1=\"0\" x2=\"96\" y2=\"25\" />\n",
       "  <line x1=\"104\" y1=\"0\" x2=\"104\" y2=\"25\" />\n",
       "  <line x1=\"112\" y1=\"0\" x2=\"112\" y2=\"25\" />\n",
       "  <line x1=\"120\" y1=\"0\" x2=\"120\" y2=\"25\" style=\"stroke-width:2\" />\n",
       "\n",
       "  <!-- Colored Rectangle -->\n",
       "  <polygon points=\"0.000000,0.000000 120.000000,0.000000 120.000000,25.412617 0.000000,25.412617\" style=\"fill:#ECB172A0;stroke-width:0\"/>\n",
       "\n",
       "  <!-- Text -->\n",
       "  <text x=\"60.000000\" y=\"45.412617\" font-size=\"1.0rem\" font-weight=\"100\" text-anchor=\"middle\" >300000</text>\n",
       "  <text x=\"140.000000\" y=\"12.706308\" font-size=\"1.0rem\" font-weight=\"100\" text-anchor=\"middle\" transform=\"rotate(-90,140.000000,12.706308)\">1000</text>\n",
       "</svg>\n",
       "</td>\n",
       "</tr>\n",
       "</table>"
      ],
      "text/plain": [
       "dask.array<array, shape=(1000, 300000), dtype=float64, chunksize=(1000, 20000), chunktype=numpy.ndarray>"
      ]
     },
     "execution_count": 4,
     "metadata": {},
     "output_type": "execute_result"
    }
   ],
   "source": [
    "arr = da.from_array(dset, chunks=(1000, 20000))\n",
    "arr"
   ]
  },
  {
   "cell_type": "code",
   "execution_count": 5,
   "metadata": {},
   "outputs": [
    {
     "data": {
      "text/html": [
       "<table>\n",
       "<tr>\n",
       "<td>\n",
       "<table>\n",
       "  <thead>\n",
       "    <tr><td> </td><th> Array </th><th> Chunk </th></tr>\n",
       "  </thead>\n",
       "  <tbody>\n",
       "    <tr><th> Bytes </th><td> 8 B </td> <td> 8 B </td></tr>\n",
       "    <tr><th> Shape </th><td> () </td> <td> () </td></tr>\n",
       "    <tr><th> Count </th><td> 46 Tasks </td><td> 1 Chunks </td></tr>\n",
       "    <tr><th> Type </th><td> float64 </td><td> numpy.ndarray </td></tr>\n",
       "  </tbody>\n",
       "</table>\n",
       "</td>\n",
       "<td>\n",
       "\n",
       "</td>\n",
       "</tr>\n",
       "</table>"
      ],
      "text/plain": [
       "dask.array<mean_agg-aggregate, shape=(), dtype=float64, chunksize=(), chunktype=numpy.ndarray>"
      ]
     },
     "execution_count": 5,
     "metadata": {},
     "output_type": "execute_result"
    }
   ],
   "source": [
    "arr.mean()\n",
    "# arr.mean().visualize()"
   ]
  },
  {
   "cell_type": "code",
   "execution_count": 6,
   "metadata": {},
   "outputs": [
    {
     "data": {
      "text/html": [
       "<table>\n",
       "<tr>\n",
       "<td>\n",
       "<table>\n",
       "  <thead>\n",
       "    <tr><td> </td><th> Array </th><th> Chunk </th></tr>\n",
       "  </thead>\n",
       "  <tbody>\n",
       "    <tr><th> Bytes </th><td> 8 B </td> <td> 8 B </td></tr>\n",
       "    <tr><th> Shape </th><td> () </td> <td> () </td></tr>\n",
       "    <tr><th> Count </th><td> 48 Tasks </td><td> 1 Chunks </td></tr>\n",
       "    <tr><th> Type </th><td> float64 </td><td> numpy.ndarray </td></tr>\n",
       "  </tbody>\n",
       "</table>\n",
       "</td>\n",
       "<td>\n",
       "\n",
       "</td>\n",
       "</tr>\n",
       "</table>"
      ],
      "text/plain": [
       "dask.array<truediv, shape=(), dtype=float64, chunksize=(), chunktype=numpy.ndarray>"
      ]
     },
     "execution_count": 6,
     "metadata": {},
     "output_type": "execute_result"
    }
   ],
   "source": [
    "(arr.mean() + 5) / 2"
   ]
  },
  {
   "cell_type": "code",
   "execution_count": 7,
   "metadata": {},
   "outputs": [
    {
     "data": {
      "text/plain": [
       "-3.0316597760870505e-05"
      ]
     },
     "execution_count": 7,
     "metadata": {},
     "output_type": "execute_result"
    }
   ],
   "source": [
    "arr.mean().compute()"
   ]
  },
  {
   "cell_type": "code",
   "execution_count": 8,
   "metadata": {},
   "outputs": [
    {
     "data": {
      "text/html": [
       "<table>\n",
       "<tr>\n",
       "<td>\n",
       "<table>\n",
       "  <thead>\n",
       "    <tr><td> </td><th> Array </th><th> Chunk </th></tr>\n",
       "  </thead>\n",
       "  <tbody>\n",
       "    <tr><th> Bytes </th><td> 8 B </td> <td> 8 B </td></tr>\n",
       "    <tr><th> Shape </th><td> () </td> <td> () </td></tr>\n",
       "    <tr><th> Count </th><td> 61 Tasks </td><td> 1 Chunks </td></tr>\n",
       "    <tr><th> Type </th><td> float64 </td><td> numpy.ndarray </td></tr>\n",
       "  </tbody>\n",
       "</table>\n",
       "</td>\n",
       "<td>\n",
       "\n",
       "</td>\n",
       "</tr>\n",
       "</table>"
      ],
      "text/plain": [
       "dask.array<mean_agg-aggregate, shape=(), dtype=float64, chunksize=(), chunktype=numpy.ndarray>"
      ]
     },
     "execution_count": 8,
     "metadata": {},
     "output_type": "execute_result"
    }
   ],
   "source": [
    "arr1 = arr / 2\n",
    "m = arr1.mean()\n",
    "s = arr1.sum()\n",
    "m"
   ]
  },
  {
   "cell_type": "code",
   "execution_count": 9,
   "metadata": {},
   "outputs": [
    {
     "name": "stdout",
     "output_type": "stream",
     "text": [
      "Wall time: 18.1 s\n"
     ]
    },
    {
     "data": {
      "text/plain": [
       "(-4547.489664130576, -1.5158298880435252e-05)"
      ]
     },
     "execution_count": 9,
     "metadata": {},
     "output_type": "execute_result"
    }
   ],
   "source": [
    "%%time\n",
    "s.compute(), m.compute()"
   ]
  },
  {
   "cell_type": "code",
   "execution_count": 10,
   "metadata": {},
   "outputs": [
    {
     "name": "stdout",
     "output_type": "stream",
     "text": [
      "Wall time: 6.29 s\n"
     ]
    },
    {
     "data": {
      "text/plain": [
       "(-4547.489664130576, -1.5158298880435252e-05)"
      ]
     },
     "execution_count": 10,
     "metadata": {},
     "output_type": "execute_result"
    }
   ],
   "source": [
    "%%time\n",
    "s_c, m_c = dask.compute(\n",
    "    s,\n",
    "    m\n",
    ")\n",
    "s_c, m_c"
   ]
  },
  {
   "cell_type": "markdown",
   "metadata": {},
   "source": [
    "2. Посчитайте сумму квадратов элементов массива, созданного в задаче 1. Создайте массив `np.array` такого же размера и сравните скорость решения задачи с использование `da.array` и `np.array`"
   ]
  },
  {
   "cell_type": "code",
   "execution_count": 11,
   "metadata": {},
   "outputs": [
    {
     "name": "stdout",
     "output_type": "stream",
     "text": [
      "Wall time: 50.7 s\n"
     ]
    },
    {
     "data": {
      "text/plain": [
       "299983766.64191854"
      ]
     },
     "execution_count": 11,
     "metadata": {},
     "output_type": "execute_result"
    }
   ],
   "source": [
    "%%time\n",
    "arr_np = np.random.normal(0, 1, size = (1000, 300_000))\n",
    "(arr_np ** 2).sum()"
   ]
  },
  {
   "cell_type": "code",
   "execution_count": 12,
   "metadata": {},
   "outputs": [
    {
     "name": "stdout",
     "output_type": "stream",
     "text": [
      "Wall time: 8.04 s\n"
     ]
    },
    {
     "data": {
      "text/plain": [
       "300014587.09841657"
      ]
     },
     "execution_count": 12,
     "metadata": {},
     "output_type": "execute_result"
    }
   ],
   "source": [
    "%%time\n",
    "arr_da = da.random.normal(0, 1, size = (1000, 300_000))\n",
    "(arr_da ** 2).sum().compute()"
   ]
  },
  {
   "cell_type": "code",
   "execution_count": 13,
   "metadata": {},
   "outputs": [],
   "source": [
    "def f(arr):\n",
    "    return arr + 2"
   ]
  },
  {
   "cell_type": "code",
   "execution_count": 14,
   "metadata": {},
   "outputs": [
    {
     "data": {
      "text/html": [
       "<table>\n",
       "<tr>\n",
       "<td>\n",
       "<table>\n",
       "  <thead>\n",
       "    <tr><td> </td><th> Array </th><th> Chunk </th></tr>\n",
       "  </thead>\n",
       "  <tbody>\n",
       "    <tr><th> Bytes </th><td> 2.40 GB </td> <td> 120.00 MB </td></tr>\n",
       "    <tr><th> Shape </th><td> (1000, 300000) </td> <td> (1000, 15000) </td></tr>\n",
       "    <tr><th> Count </th><td> 40 Tasks </td><td> 20 Chunks </td></tr>\n",
       "    <tr><th> Type </th><td> float64 </td><td> numpy.ndarray </td></tr>\n",
       "  </tbody>\n",
       "</table>\n",
       "</td>\n",
       "<td>\n",
       "<svg width=\"170\" height=\"75\" style=\"stroke:rgb(0,0,0);stroke-width:1\" >\n",
       "\n",
       "  <!-- Horizontal lines -->\n",
       "  <line x1=\"0\" y1=\"0\" x2=\"120\" y2=\"0\" style=\"stroke-width:2\" />\n",
       "  <line x1=\"0\" y1=\"25\" x2=\"120\" y2=\"25\" style=\"stroke-width:2\" />\n",
       "\n",
       "  <!-- Vertical lines -->\n",
       "  <line x1=\"0\" y1=\"0\" x2=\"0\" y2=\"25\" style=\"stroke-width:2\" />\n",
       "  <line x1=\"6\" y1=\"0\" x2=\"6\" y2=\"25\" />\n",
       "  <line x1=\"12\" y1=\"0\" x2=\"12\" y2=\"25\" />\n",
       "  <line x1=\"18\" y1=\"0\" x2=\"18\" y2=\"25\" />\n",
       "  <line x1=\"24\" y1=\"0\" x2=\"24\" y2=\"25\" />\n",
       "  <line x1=\"30\" y1=\"0\" x2=\"30\" y2=\"25\" />\n",
       "  <line x1=\"36\" y1=\"0\" x2=\"36\" y2=\"25\" />\n",
       "  <line x1=\"42\" y1=\"0\" x2=\"42\" y2=\"25\" />\n",
       "  <line x1=\"48\" y1=\"0\" x2=\"48\" y2=\"25\" />\n",
       "  <line x1=\"54\" y1=\"0\" x2=\"54\" y2=\"25\" />\n",
       "  <line x1=\"60\" y1=\"0\" x2=\"60\" y2=\"25\" />\n",
       "  <line x1=\"66\" y1=\"0\" x2=\"66\" y2=\"25\" />\n",
       "  <line x1=\"72\" y1=\"0\" x2=\"72\" y2=\"25\" />\n",
       "  <line x1=\"78\" y1=\"0\" x2=\"78\" y2=\"25\" />\n",
       "  <line x1=\"84\" y1=\"0\" x2=\"84\" y2=\"25\" />\n",
       "  <line x1=\"90\" y1=\"0\" x2=\"90\" y2=\"25\" />\n",
       "  <line x1=\"96\" y1=\"0\" x2=\"96\" y2=\"25\" />\n",
       "  <line x1=\"102\" y1=\"0\" x2=\"102\" y2=\"25\" />\n",
       "  <line x1=\"108\" y1=\"0\" x2=\"108\" y2=\"25\" />\n",
       "  <line x1=\"114\" y1=\"0\" x2=\"114\" y2=\"25\" />\n",
       "  <line x1=\"120\" y1=\"0\" x2=\"120\" y2=\"25\" style=\"stroke-width:2\" />\n",
       "\n",
       "  <!-- Colored Rectangle -->\n",
       "  <polygon points=\"0.000000,0.000000 120.000000,0.000000 120.000000,25.412617 0.000000,25.412617\" style=\"fill:#ECB172A0;stroke-width:0\"/>\n",
       "\n",
       "  <!-- Text -->\n",
       "  <text x=\"60.000000\" y=\"45.412617\" font-size=\"1.0rem\" font-weight=\"100\" text-anchor=\"middle\" >300000</text>\n",
       "  <text x=\"140.000000\" y=\"12.706308\" font-size=\"1.0rem\" font-weight=\"100\" text-anchor=\"middle\" transform=\"rotate(-90,140.000000,12.706308)\">1000</text>\n",
       "</svg>\n",
       "</td>\n",
       "</tr>\n",
       "</table>"
      ],
      "text/plain": [
       "dask.array<add, shape=(1000, 300000), dtype=float64, chunksize=(1000, 15000), chunktype=numpy.ndarray>"
      ]
     },
     "execution_count": 14,
     "metadata": {},
     "output_type": "execute_result"
    }
   ],
   "source": [
    "f(arr_da)"
   ]
  },
  {
   "cell_type": "code",
   "execution_count": 15,
   "metadata": {},
   "outputs": [],
   "source": [
    "def g(arr):\n",
    "    return np.mean(arr)\n"
   ]
  },
  {
   "cell_type": "code",
   "execution_count": 16,
   "metadata": {},
   "outputs": [
    {
     "data": {
      "text/plain": [
       "-3.0316597760870505e-05"
      ]
     },
     "execution_count": 16,
     "metadata": {},
     "output_type": "execute_result"
    }
   ],
   "source": [
    "g(arr).compute()"
   ]
  },
  {
   "cell_type": "code",
   "execution_count": 17,
   "metadata": {},
   "outputs": [
    {
     "data": {
      "text/plain": [
       "0.0"
      ]
     },
     "execution_count": 17,
     "metadata": {},
     "output_type": "execute_result"
    }
   ],
   "source": [
    "g(np.random.randint(0, 1, (100, 100)))"
   ]
  },
  {
   "cell_type": "code",
   "execution_count": 18,
   "metadata": {},
   "outputs": [
    {
     "name": "stdout",
     "output_type": "stream",
     "text": [
      "Wall time: 14.9 s\n"
     ]
    },
    {
     "data": {
      "text/plain": [
       "-1.5158298880435252e-05"
      ]
     },
     "execution_count": 18,
     "metadata": {},
     "output_type": "execute_result"
    }
   ],
   "source": [
    "%%time\n",
    "arr1 = arr / 2\n",
    "# m = arr1.mean().persist()\n",
    "m = arr1.mean().compute()\n",
    "m"
   ]
  },
  {
   "cell_type": "code",
   "execution_count": 19,
   "metadata": {},
   "outputs": [
    {
     "name": "stdout",
     "output_type": "stream",
     "text": [
      "Wall time: 12.1 s\n"
     ]
    },
    {
     "data": {
      "text/plain": [
       "-1.5158298880435252e-05"
      ]
     },
     "execution_count": 19,
     "metadata": {},
     "output_type": "execute_result"
    }
   ],
   "source": [
    "%%time\n",
    "arr1.mean().compute()"
   ]
  },
  {
   "cell_type": "code",
   "execution_count": 20,
   "metadata": {},
   "outputs": [
    {
     "data": {
      "text/plain": [
       "array([[ 1.15599456,  0.04898961, -1.36550373, ..., -0.13819942,\n",
       "         0.36295281,  0.64182372],\n",
       "       [-0.179706  ,  0.02840117,  0.15572787, ...,  0.94572958,\n",
       "         2.56145198, -0.72746019],\n",
       "       [ 0.40426528,  0.23525858, -0.05484852, ..., -1.24043863,\n",
       "        -0.63100602,  0.25350252],\n",
       "       ...,\n",
       "       [-1.1216879 , -0.82084612, -0.66371585, ...,  2.06499394,\n",
       "         0.69888132, -0.04836113],\n",
       "       [-0.6210468 ,  0.25081832,  0.50124632, ...,  0.06370724,\n",
       "         2.01715972, -1.6961476 ],\n",
       "       [ 0.5478802 ,  0.92049107,  2.4512487 , ...,  0.40028398,\n",
       "        -0.21074185,  0.83947934]])"
      ]
     },
     "execution_count": 20,
     "metadata": {},
     "output_type": "execute_result"
    }
   ],
   "source": [
    "arr[:50, :50].compute()"
   ]
  },
  {
   "cell_type": "code",
   "execution_count": 21,
   "metadata": {},
   "outputs": [
    {
     "data": {
      "text/plain": [
       "array([1.15599456, 0.04898961, 1.31883283, ..., 0.25698459, 2.44057592,\n",
       "       0.50605552])"
      ]
     },
     "execution_count": 21,
     "metadata": {},
     "output_type": "execute_result"
    }
   ],
   "source": [
    "arr[arr>0].compute()"
   ]
  },
  {
   "cell_type": "markdown",
   "metadata": {},
   "source": [
    "## Лабораторная работа 11"
   ]
  },
  {
   "cell_type": "markdown",
   "metadata": {},
   "source": [
    "__При решении данных задач не подразумевается использования циклов или генераторов Python в ходе работы с пакетами `numpy`, `pandas` и `dask`, если в задании не сказано обратного. Решения задач, в которых для обработки массивов `numpy`, структур `pandas` или структур `dask` используются явные циклы (без согласования с преподавателем), могут быть признаны некорректными и не засчитаны.__"
   ]
  },
  {
   "cell_type": "markdown",
   "metadata": {},
   "source": [
    "В ходе выполнения все операции вычислений (расчет средних значений, расчет косинусной близости и т.д.) проводятся над `dask.array` и средствами пакета `dask`, если в задании не сказано обратного. Переход от `dask.array` к `numpy.array` или `pd.DataFrame` возможен исключительно для демонстрации результата в конце решения задачи. Если в задаче используются результаты выполнения предыдущих задач, то подразумевается, что вы используете результаты в виде `dask.array` (то есть то, что было получено до вызова `compute`, а не после)."
   ]
  },
  {
   "cell_type": "markdown",
   "metadata": {},
   "source": [
    "1\\. Считайте датасет `embeddings` из файла `recipe_embeddings.h5` в виде `dask.array`. Выведите на экран основную информацию о массиве: размер, форму, тип, количество и размер сегментов. "
   ]
  },
  {
   "cell_type": "code",
   "execution_count": 38,
   "metadata": {},
   "outputs": [],
   "source": [
    "import dask.array as da\n",
    "import h5py\n",
    "import numpy as np\n",
    "import dask\n",
    "import pandas as pd"
   ]
  },
  {
   "cell_type": "code",
   "execution_count": 40,
   "metadata": {},
   "outputs": [],
   "source": [
    "hdf = h5py.File('recipe_embeddings.h5', \"r\")\n",
    "dset = hdf['embeddings']"
   ]
  },
  {
   "cell_type": "code",
   "execution_count": 41,
   "metadata": {},
   "outputs": [],
   "source": [
    "recipe_embeddings = da.from_array(dset)"
   ]
  },
  {
   "cell_type": "code",
   "execution_count": 42,
   "metadata": {},
   "outputs": [
    {
     "data": {
      "text/html": [
       "<table>\n",
       "<tr>\n",
       "<td>\n",
       "<table>\n",
       "  <thead>\n",
       "    <tr><td> </td><th> Array </th><th> Chunk </th></tr>\n",
       "  </thead>\n",
       "  <tbody>\n",
       "    <tr><th> Bytes </th><td> 1.50 GB </td> <td> 124.80 MB </td></tr>\n",
       "    <tr><th> Shape </th><td> (1200000, 312) </td> <td> (100000, 312) </td></tr>\n",
       "    <tr><th> Count </th><td> 13 Tasks </td><td> 12 Chunks </td></tr>\n",
       "    <tr><th> Type </th><td> float32 </td><td> numpy.ndarray </td></tr>\n",
       "  </tbody>\n",
       "</table>\n",
       "</td>\n",
       "<td>\n",
       "<svg width=\"75\" height=\"170\" style=\"stroke:rgb(0,0,0);stroke-width:1\" >\n",
       "\n",
       "  <!-- Horizontal lines -->\n",
       "  <line x1=\"0\" y1=\"0\" x2=\"25\" y2=\"0\" style=\"stroke-width:2\" />\n",
       "  <line x1=\"0\" y1=\"10\" x2=\"25\" y2=\"10\" />\n",
       "  <line x1=\"0\" y1=\"20\" x2=\"25\" y2=\"20\" />\n",
       "  <line x1=\"0\" y1=\"30\" x2=\"25\" y2=\"30\" />\n",
       "  <line x1=\"0\" y1=\"40\" x2=\"25\" y2=\"40\" />\n",
       "  <line x1=\"0\" y1=\"50\" x2=\"25\" y2=\"50\" />\n",
       "  <line x1=\"0\" y1=\"60\" x2=\"25\" y2=\"60\" />\n",
       "  <line x1=\"0\" y1=\"70\" x2=\"25\" y2=\"70\" />\n",
       "  <line x1=\"0\" y1=\"80\" x2=\"25\" y2=\"80\" />\n",
       "  <line x1=\"0\" y1=\"90\" x2=\"25\" y2=\"90\" />\n",
       "  <line x1=\"0\" y1=\"100\" x2=\"25\" y2=\"100\" />\n",
       "  <line x1=\"0\" y1=\"110\" x2=\"25\" y2=\"110\" />\n",
       "  <line x1=\"0\" y1=\"120\" x2=\"25\" y2=\"120\" style=\"stroke-width:2\" />\n",
       "\n",
       "  <!-- Vertical lines -->\n",
       "  <line x1=\"0\" y1=\"0\" x2=\"0\" y2=\"120\" style=\"stroke-width:2\" />\n",
       "  <line x1=\"25\" y1=\"0\" x2=\"25\" y2=\"120\" style=\"stroke-width:2\" />\n",
       "\n",
       "  <!-- Colored Rectangle -->\n",
       "  <polygon points=\"0.000000,0.000000 25.412617,0.000000 25.412617,120.000000 0.000000,120.000000\" style=\"fill:#ECB172A0;stroke-width:0\"/>\n",
       "\n",
       "  <!-- Text -->\n",
       "  <text x=\"12.706308\" y=\"140.000000\" font-size=\"1.0rem\" font-weight=\"100\" text-anchor=\"middle\" >312</text>\n",
       "  <text x=\"45.412617\" y=\"60.000000\" font-size=\"1.0rem\" font-weight=\"100\" text-anchor=\"middle\" transform=\"rotate(-90,45.412617,60.000000)\">1200000</text>\n",
       "</svg>\n",
       "</td>\n",
       "</tr>\n",
       "</table>"
      ],
      "text/plain": [
       "dask.array<array, shape=(1200000, 312), dtype=float32, chunksize=(100000, 312), chunktype=numpy.ndarray>"
      ]
     },
     "execution_count": 42,
     "metadata": {},
     "output_type": "execute_result"
    }
   ],
   "source": [
    "recipe_embeddings"
   ]
  },
  {
   "cell_type": "markdown",
   "metadata": {},
   "source": [
    "2\\. Посчитайте и выведите на экран среднее значение всех элементов массива. Исследуйте, как влияет значение аргумента `chunks` при создании `dask.array` на скорость выполнения операции поиска среднего. \n",
    "\n",
    "Пусть $M$ - количество строк в массиве, $N$ - количество столбцов в массиве, `chunks=(r,c)`. Сравните несколько вариантов:\n",
    "* $r=M$, $с \\ll N$ , \n",
    "* $r \\ll M$, $c=N$ \n",
    "* $r = M$, $c = N$ \n",
    "* значения $r, c$ по умолчанию.\n",
    "\n",
    "Выберите наиболее оптимальные значения $r$ и  $c$ в смысле скорости вычислений и далее продолжайте работу с ними."
   ]
  },
  {
   "cell_type": "code",
   "execution_count": 48,
   "metadata": {},
   "outputs": [
    {
     "name": "stdout",
     "output_type": "stream",
     "text": [
      "Wall time: 3.31 s\n"
     ]
    },
    {
     "data": {
      "text/plain": [
       "0.0023777573"
      ]
     },
     "execution_count": 48,
     "metadata": {},
     "output_type": "execute_result"
    }
   ],
   "source": [
    "%%time\n",
    "recipe_embeddings = da.from_array(dset, chunks = (1200000, 39))\n",
    "recipe_embeddings.mean().compute()"
   ]
  },
  {
   "cell_type": "code",
   "execution_count": 49,
   "metadata": {},
   "outputs": [
    {
     "name": "stdout",
     "output_type": "stream",
     "text": [
      "Wall time: 957 ms\n"
     ]
    },
    {
     "data": {
      "text/plain": [
       "0.0023777566"
      ]
     },
     "execution_count": 49,
     "metadata": {},
     "output_type": "execute_result"
    }
   ],
   "source": [
    "%%time\n",
    "recipe_embeddings = da.from_array(dset, chunks = (12000, 312))\n",
    "recipe_embeddings.mean().compute()"
   ]
  },
  {
   "cell_type": "code",
   "execution_count": 50,
   "metadata": {},
   "outputs": [
    {
     "name": "stdout",
     "output_type": "stream",
     "text": [
      "Wall time: 1.13 s\n"
     ]
    },
    {
     "data": {
      "text/plain": [
       "0.0023777678"
      ]
     },
     "execution_count": 50,
     "metadata": {},
     "output_type": "execute_result"
    }
   ],
   "source": [
    "%%time\n",
    "recipe_embeddings = da.from_array(dset, chunks = (1200000, 312))\n",
    "recipe_embeddings.mean().compute()"
   ]
  },
  {
   "cell_type": "code",
   "execution_count": 51,
   "metadata": {},
   "outputs": [
    {
     "name": "stdout",
     "output_type": "stream",
     "text": [
      "Wall time: 878 ms\n"
     ]
    },
    {
     "data": {
      "text/plain": [
       "0.0023777566"
      ]
     },
     "execution_count": 51,
     "metadata": {},
     "output_type": "execute_result"
    }
   ],
   "source": [
    "%%time\n",
    "recipe_embeddings = da.from_array(dset)\n",
    "recipe_embeddings.mean().compute()"
   ]
  },
  {
   "cell_type": "code",
   "execution_count": 52,
   "metadata": {},
   "outputs": [],
   "source": [
    "#Последний вариант - оптимальный, оставляем recipe_embeddings как в последней ячейке"
   ]
  },
  {
   "cell_type": "markdown",
   "metadata": {},
   "source": [
    "3\\. Опишите пространство, в котором расположены эмбеддинги, посчитав минимальное и максимальное значение для каждой из координат. Сведите результаты в таблицу `pd.DataFrame`, состоящую из двух строк и 312 столбцов. Задайте индексы строк \"min\" и \"max\". Названия столбцов сделайте вида $x_i$. Выведите полученную таблицу на экран.\n",
    "\n",
    "Решите задачу двумя способами. В первом варианте сделайте два вызова метода `compute` для расчета каждого из векторов максимальных и минимальных значений. Во втором варианте сделайте один вызов функции `dask.compute` для одновременного расчета двух векторов. Сравните время выполнения двух решений."
   ]
  },
  {
   "cell_type": "code",
   "execution_count": 53,
   "metadata": {},
   "outputs": [
    {
     "name": "stdout",
     "output_type": "stream",
     "text": [
      "Wall time: 1.72 s\n"
     ]
    },
    {
     "data": {
      "text/html": [
       "<div>\n",
       "<style scoped>\n",
       "    .dataframe tbody tr th:only-of-type {\n",
       "        vertical-align: middle;\n",
       "    }\n",
       "\n",
       "    .dataframe tbody tr th {\n",
       "        vertical-align: top;\n",
       "    }\n",
       "\n",
       "    .dataframe thead th {\n",
       "        text-align: right;\n",
       "    }\n",
       "</style>\n",
       "<table border=\"1\" class=\"dataframe\">\n",
       "  <thead>\n",
       "    <tr style=\"text-align: right;\">\n",
       "      <th></th>\n",
       "      <th>x0</th>\n",
       "      <th>x1</th>\n",
       "      <th>x2</th>\n",
       "      <th>x3</th>\n",
       "      <th>x4</th>\n",
       "      <th>x5</th>\n",
       "      <th>x6</th>\n",
       "      <th>x7</th>\n",
       "      <th>x8</th>\n",
       "      <th>x9</th>\n",
       "      <th>...</th>\n",
       "      <th>x302</th>\n",
       "      <th>x303</th>\n",
       "      <th>x304</th>\n",
       "      <th>x305</th>\n",
       "      <th>x306</th>\n",
       "      <th>x307</th>\n",
       "      <th>x308</th>\n",
       "      <th>x309</th>\n",
       "      <th>x310</th>\n",
       "      <th>x311</th>\n",
       "    </tr>\n",
       "  </thead>\n",
       "  <tbody>\n",
       "    <tr>\n",
       "      <th>min</th>\n",
       "      <td>-0.132803</td>\n",
       "      <td>-0.149056</td>\n",
       "      <td>-0.094468</td>\n",
       "      <td>-0.191697</td>\n",
       "      <td>-0.114229</td>\n",
       "      <td>-0.114341</td>\n",
       "      <td>-0.096039</td>\n",
       "      <td>-0.115178</td>\n",
       "      <td>-0.157275</td>\n",
       "      <td>-0.116715</td>\n",
       "      <td>...</td>\n",
       "      <td>-0.103254</td>\n",
       "      <td>-0.122285</td>\n",
       "      <td>-0.149789</td>\n",
       "      <td>-0.127703</td>\n",
       "      <td>-0.094802</td>\n",
       "      <td>-0.119690</td>\n",
       "      <td>-0.141425</td>\n",
       "      <td>-0.123732</td>\n",
       "      <td>-0.081543</td>\n",
       "      <td>-0.227348</td>\n",
       "    </tr>\n",
       "    <tr>\n",
       "      <th>max</th>\n",
       "      <td>0.135038</td>\n",
       "      <td>0.076125</td>\n",
       "      <td>0.157854</td>\n",
       "      <td>0.030987</td>\n",
       "      <td>0.101192</td>\n",
       "      <td>0.111774</td>\n",
       "      <td>0.147497</td>\n",
       "      <td>0.173821</td>\n",
       "      <td>0.099808</td>\n",
       "      <td>0.115573</td>\n",
       "      <td>...</td>\n",
       "      <td>0.119518</td>\n",
       "      <td>0.197589</td>\n",
       "      <td>0.113135</td>\n",
       "      <td>0.136490</td>\n",
       "      <td>0.162921</td>\n",
       "      <td>0.099021</td>\n",
       "      <td>0.086653</td>\n",
       "      <td>0.158176</td>\n",
       "      <td>0.166968</td>\n",
       "      <td>0.048967</td>\n",
       "    </tr>\n",
       "  </tbody>\n",
       "</table>\n",
       "<p>2 rows × 312 columns</p>\n",
       "</div>"
      ],
      "text/plain": [
       "           x0        x1        x2        x3        x4        x5        x6  \\\n",
       "min -0.132803 -0.149056 -0.094468 -0.191697 -0.114229 -0.114341 -0.096039   \n",
       "max  0.135038  0.076125  0.157854  0.030987  0.101192  0.111774  0.147497   \n",
       "\n",
       "           x7        x8        x9  ...      x302      x303      x304  \\\n",
       "min -0.115178 -0.157275 -0.116715  ... -0.103254 -0.122285 -0.149789   \n",
       "max  0.173821  0.099808  0.115573  ...  0.119518  0.197589  0.113135   \n",
       "\n",
       "         x305      x306      x307      x308      x309      x310      x311  \n",
       "min -0.127703 -0.094802 -0.119690 -0.141425 -0.123732 -0.081543 -0.227348  \n",
       "max  0.136490  0.162921  0.099021  0.086653  0.158176  0.166968  0.048967  \n",
       "\n",
       "[2 rows x 312 columns]"
      ]
     },
     "execution_count": 53,
     "metadata": {},
     "output_type": "execute_result"
    }
   ],
   "source": [
    "%%time\n",
    "col_min = recipe_embeddings.min(axis=0).compute()\n",
    "col_max = recipe_embeddings.max(axis=0).compute()\n",
    "minmaxdf = pd.DataFrame([col_min, col_max], index=['min', 'max'], columns=[f'x{i}' for i in np.arange(recipe_embeddings.shape[1])] )\n",
    "minmaxdf"
   ]
  },
  {
   "cell_type": "code",
   "execution_count": 54,
   "metadata": {},
   "outputs": [
    {
     "name": "stdout",
     "output_type": "stream",
     "text": [
      "Wall time: 899 ms\n"
     ]
    },
    {
     "data": {
      "text/html": [
       "<div>\n",
       "<style scoped>\n",
       "    .dataframe tbody tr th:only-of-type {\n",
       "        vertical-align: middle;\n",
       "    }\n",
       "\n",
       "    .dataframe tbody tr th {\n",
       "        vertical-align: top;\n",
       "    }\n",
       "\n",
       "    .dataframe thead th {\n",
       "        text-align: right;\n",
       "    }\n",
       "</style>\n",
       "<table border=\"1\" class=\"dataframe\">\n",
       "  <thead>\n",
       "    <tr style=\"text-align: right;\">\n",
       "      <th></th>\n",
       "      <th>x0</th>\n",
       "      <th>x1</th>\n",
       "      <th>x2</th>\n",
       "      <th>x3</th>\n",
       "      <th>x4</th>\n",
       "      <th>x5</th>\n",
       "      <th>x6</th>\n",
       "      <th>x7</th>\n",
       "      <th>x8</th>\n",
       "      <th>x9</th>\n",
       "      <th>...</th>\n",
       "      <th>x302</th>\n",
       "      <th>x303</th>\n",
       "      <th>x304</th>\n",
       "      <th>x305</th>\n",
       "      <th>x306</th>\n",
       "      <th>x307</th>\n",
       "      <th>x308</th>\n",
       "      <th>x309</th>\n",
       "      <th>x310</th>\n",
       "      <th>x311</th>\n",
       "    </tr>\n",
       "  </thead>\n",
       "  <tbody>\n",
       "    <tr>\n",
       "      <th>min</th>\n",
       "      <td>-0.132803</td>\n",
       "      <td>-0.149056</td>\n",
       "      <td>-0.094468</td>\n",
       "      <td>-0.191697</td>\n",
       "      <td>-0.114229</td>\n",
       "      <td>-0.114341</td>\n",
       "      <td>-0.096039</td>\n",
       "      <td>-0.115178</td>\n",
       "      <td>-0.157275</td>\n",
       "      <td>-0.116715</td>\n",
       "      <td>...</td>\n",
       "      <td>-0.103254</td>\n",
       "      <td>-0.122285</td>\n",
       "      <td>-0.149789</td>\n",
       "      <td>-0.127703</td>\n",
       "      <td>-0.094802</td>\n",
       "      <td>-0.119690</td>\n",
       "      <td>-0.141425</td>\n",
       "      <td>-0.123732</td>\n",
       "      <td>-0.081543</td>\n",
       "      <td>-0.227348</td>\n",
       "    </tr>\n",
       "    <tr>\n",
       "      <th>max</th>\n",
       "      <td>0.135038</td>\n",
       "      <td>0.076125</td>\n",
       "      <td>0.157854</td>\n",
       "      <td>0.030987</td>\n",
       "      <td>0.101192</td>\n",
       "      <td>0.111774</td>\n",
       "      <td>0.147497</td>\n",
       "      <td>0.173821</td>\n",
       "      <td>0.099808</td>\n",
       "      <td>0.115573</td>\n",
       "      <td>...</td>\n",
       "      <td>0.119518</td>\n",
       "      <td>0.197589</td>\n",
       "      <td>0.113135</td>\n",
       "      <td>0.136490</td>\n",
       "      <td>0.162921</td>\n",
       "      <td>0.099021</td>\n",
       "      <td>0.086653</td>\n",
       "      <td>0.158176</td>\n",
       "      <td>0.166968</td>\n",
       "      <td>0.048967</td>\n",
       "    </tr>\n",
       "  </tbody>\n",
       "</table>\n",
       "<p>2 rows × 312 columns</p>\n",
       "</div>"
      ],
      "text/plain": [
       "           x0        x1        x2        x3        x4        x5        x6  \\\n",
       "min -0.132803 -0.149056 -0.094468 -0.191697 -0.114229 -0.114341 -0.096039   \n",
       "max  0.135038  0.076125  0.157854  0.030987  0.101192  0.111774  0.147497   \n",
       "\n",
       "           x7        x8        x9  ...      x302      x303      x304  \\\n",
       "min -0.115178 -0.157275 -0.116715  ... -0.103254 -0.122285 -0.149789   \n",
       "max  0.173821  0.099808  0.115573  ...  0.119518  0.197589  0.113135   \n",
       "\n",
       "         x305      x306      x307      x308      x309      x310      x311  \n",
       "min -0.127703 -0.094802 -0.119690 -0.141425 -0.123732 -0.081543 -0.227348  \n",
       "max  0.136490  0.162921  0.099021  0.086653  0.158176  0.166968  0.048967  \n",
       "\n",
       "[2 rows x 312 columns]"
      ]
     },
     "execution_count": 54,
     "metadata": {},
     "output_type": "execute_result"
    }
   ],
   "source": [
    "%%time\n",
    "minn = recipe_embeddings.min(axis=0)\n",
    "maxx = recipe_embeddings.max(axis=0)\n",
    "col_min, col_max = dask.compute(\n",
    "    minn,\n",
    "    maxx\n",
    ")\n",
    "minmaxdf = pd.DataFrame([col_min, col_max], index=['min', 'max'], columns=[f'x{i}' for i in np.arange(recipe_embeddings.shape[1])] )\n",
    "minmaxdf"
   ]
  },
  {
   "cell_type": "code",
   "execution_count": 55,
   "metadata": {},
   "outputs": [],
   "source": [
    "#При вызове compute один раз для одновременного расчета двух векторов, значения рассчитываются быстрее"
   ]
  },
  {
   "cell_type": "markdown",
   "metadata": {},
   "source": [
    "4\\. Найдите вектор $x \\ne x_{256}$ из набора данных, ближайший к вектору $x_{256}$ в смысле метрики $L_1$. Выведите на экран первые 10 координат вектора $x$.\n",
    "\n",
    "$$d_1(\\textbf{x},\\textbf{y})=\\sum_{k=1}^{n}{|x_k - y_k|}, \\textbf{x}, \\textbf{y} \\in \\mathbb{R}^n$$"
   ]
  },
  {
   "cell_type": "code",
   "execution_count": 56,
   "metadata": {},
   "outputs": [
    {
     "data": {
      "text/plain": [
       "array([-0.03620593, -0.02302776, -0.02423452, -0.04748494, -0.03022445,\n",
       "       -0.00947769,  0.01703103, -0.00542553,  0.01890532, -0.00433748],\n",
       "      dtype=float32)"
      ]
     },
     "execution_count": 56,
     "metadata": {},
     "output_type": "execute_result"
    }
   ],
   "source": [
    "recipe_embeddings[:10, da.absolute((recipe_embeddings[:, np.delete(np.arange(recipe_embeddings.shape[1]), 256)] - recipe_embeddings[:,256] \\\n",
    "                                    .reshape(-1,1))).sum(axis=0).argmin()].compute()"
   ]
  },
  {
   "cell_type": "markdown",
   "metadata": {},
   "source": [
    "5\\. Рецепты разбиты на 4 группы. Загрузите маску для разбиения на группы из датасета `mask` из файла `recipe_embeddings.h5` в виде `dask.array`. Для каждой группы посчитайте и выведите на экран максимальное значение  нормы $\\ell_1$ векторов рецептов, принадлежащих к этой группе. \n",
    "\n",
    "Подсказка: закодируйте маску принадлежности к группе при помощи метода кодирования one-hot encoding и воспользуйтесь механизмом распространения.\n",
    "\n",
    "$$\\ell_1: ||\\textbf{x}||_1=\\sum_{k=1}^{n}{|x_k|}, \\textbf{x} \\in \\mathbb{R}^n$$"
   ]
  },
  {
   "cell_type": "code",
   "execution_count": 57,
   "metadata": {},
   "outputs": [],
   "source": [
    "hdf = h5py.File('recipe_embeddings.h5', \"r\")\n",
    "dset = hdf['mask']"
   ]
  },
  {
   "cell_type": "code",
   "execution_count": 58,
   "metadata": {},
   "outputs": [
    {
     "data": {
      "text/html": [
       "<table>\n",
       "<tr>\n",
       "<td>\n",
       "<table>\n",
       "  <thead>\n",
       "    <tr><td> </td><th> Array </th><th> Chunk </th></tr>\n",
       "  </thead>\n",
       "  <tbody>\n",
       "    <tr><th> Bytes </th><td> 9.60 MB </td> <td> 9.60 MB </td></tr>\n",
       "    <tr><th> Shape </th><td> (1200000,) </td> <td> (1200000,) </td></tr>\n",
       "    <tr><th> Count </th><td> 2 Tasks </td><td> 1 Chunks </td></tr>\n",
       "    <tr><th> Type </th><td> int64 </td><td> numpy.ndarray </td></tr>\n",
       "  </tbody>\n",
       "</table>\n",
       "</td>\n",
       "<td>\n",
       "<svg width=\"170\" height=\"75\" style=\"stroke:rgb(0,0,0);stroke-width:1\" >\n",
       "\n",
       "  <!-- Horizontal lines -->\n",
       "  <line x1=\"0\" y1=\"0\" x2=\"120\" y2=\"0\" style=\"stroke-width:2\" />\n",
       "  <line x1=\"0\" y1=\"25\" x2=\"120\" y2=\"25\" style=\"stroke-width:2\" />\n",
       "\n",
       "  <!-- Vertical lines -->\n",
       "  <line x1=\"0\" y1=\"0\" x2=\"0\" y2=\"25\" style=\"stroke-width:2\" />\n",
       "  <line x1=\"120\" y1=\"0\" x2=\"120\" y2=\"25\" style=\"stroke-width:2\" />\n",
       "\n",
       "  <!-- Colored Rectangle -->\n",
       "  <polygon points=\"0.000000,0.000000 120.000000,0.000000 120.000000,25.412617 0.000000,25.412617\" style=\"fill:#ECB172A0;stroke-width:0\"/>\n",
       "\n",
       "  <!-- Text -->\n",
       "  <text x=\"60.000000\" y=\"45.412617\" font-size=\"1.0rem\" font-weight=\"100\" text-anchor=\"middle\" >1200000</text>\n",
       "  <text x=\"140.000000\" y=\"12.706308\" font-size=\"1.0rem\" font-weight=\"100\" text-anchor=\"middle\" transform=\"rotate(0,140.000000,12.706308)\">1</text>\n",
       "</svg>\n",
       "</td>\n",
       "</tr>\n",
       "</table>"
      ],
      "text/plain": [
       "dask.array<array, shape=(1200000,), dtype=int64, chunksize=(1200000,), chunktype=numpy.ndarray>"
      ]
     },
     "execution_count": 58,
     "metadata": {},
     "output_type": "execute_result"
    }
   ],
   "source": [
    "recipe_mask = da.from_array(dset)\n",
    "recipe_mask"
   ]
  },
  {
   "cell_type": "code",
   "execution_count": 59,
   "metadata": {},
   "outputs": [
    {
     "data": {
      "text/html": [
       "<table>\n",
       "<tr>\n",
       "<td>\n",
       "<table>\n",
       "  <thead>\n",
       "    <tr><td> </td><th> Array </th><th> Chunk </th></tr>\n",
       "  </thead>\n",
       "  <tbody>\n",
       "    <tr><th> Bytes </th><td> 4.80 MB </td> <td> 4.80 MB </td></tr>\n",
       "    <tr><th> Shape </th><td> (1200000, 4) </td> <td> (1200000, 4) </td></tr>\n",
       "    <tr><th> Count </th><td> 5 Tasks </td><td> 1 Chunks </td></tr>\n",
       "    <tr><th> Type </th><td> bool </td><td> numpy.ndarray </td></tr>\n",
       "  </tbody>\n",
       "</table>\n",
       "</td>\n",
       "<td>\n",
       "<svg width=\"75\" height=\"170\" style=\"stroke:rgb(0,0,0);stroke-width:1\" >\n",
       "\n",
       "  <!-- Horizontal lines -->\n",
       "  <line x1=\"0\" y1=\"0\" x2=\"25\" y2=\"0\" style=\"stroke-width:2\" />\n",
       "  <line x1=\"0\" y1=\"120\" x2=\"25\" y2=\"120\" style=\"stroke-width:2\" />\n",
       "\n",
       "  <!-- Vertical lines -->\n",
       "  <line x1=\"0\" y1=\"0\" x2=\"0\" y2=\"120\" style=\"stroke-width:2\" />\n",
       "  <line x1=\"25\" y1=\"0\" x2=\"25\" y2=\"120\" style=\"stroke-width:2\" />\n",
       "\n",
       "  <!-- Colored Rectangle -->\n",
       "  <polygon points=\"0.000000,0.000000 25.412617,0.000000 25.412617,120.000000 0.000000,120.000000\" style=\"fill:#ECB172A0;stroke-width:0\"/>\n",
       "\n",
       "  <!-- Text -->\n",
       "  <text x=\"12.706308\" y=\"140.000000\" font-size=\"1.0rem\" font-weight=\"100\" text-anchor=\"middle\" >4</text>\n",
       "  <text x=\"45.412617\" y=\"60.000000\" font-size=\"1.0rem\" font-weight=\"100\" text-anchor=\"middle\" transform=\"rotate(-90,45.412617,60.000000)\">1200000</text>\n",
       "</svg>\n",
       "</td>\n",
       "</tr>\n",
       "</table>"
      ],
      "text/plain": [
       "dask.array<eq, shape=(1200000, 4), dtype=bool, chunksize=(1200000, 4), chunktype=numpy.ndarray>"
      ]
     },
     "execution_count": 59,
     "metadata": {},
     "output_type": "execute_result"
    }
   ],
   "source": [
    "ohe = (recipe_mask.reshape(-1,1) == da.arange(da.unique(recipe_mask).compute().shape[0]))\n",
    "ohe"
   ]
  },
  {
   "cell_type": "code",
   "execution_count": 60,
   "metadata": {},
   "outputs": [
    {
     "data": {
      "text/plain": [
       "array([13.319677, 13.324095, 13.31526 , 13.319157], dtype=float32)"
      ]
     },
     "execution_count": 60,
     "metadata": {},
     "output_type": "execute_result"
    }
   ],
   "source": [
    "(da.absolute(recipe_embeddings).sum(axis=1).reshape(-1, 1) * ohe).max(axis=0).compute()"
   ]
  },
  {
   "cell_type": "markdown",
   "metadata": {},
   "source": [
    "6\\. Пусть $X=[\\textbf{x}_1,...\\textbf{x}_M]^\\top$ - матрица эмбеддингов рецептов размера $M\\times N$, $W=[\\textbf{w}_1,...,\\textbf{w}_N]^\\top$ - матрица коэффициентов некоторой модели машинного обучения размера $N\\times 4$, $y=[y_1,...,y_M]^\\top$ - вектор размера $M$, содержащий номера групп рецептов (метки классов). Тогда задачу классификации можно решить следующим образом: $$\\hat{y_i} = argmax_j{<X_{i\\cdot}, W_{\\cdot j}>}$$ где $A_{i\\cdot}$ обозначает $i$ строку матрицы, $A_{\\cdot j}$ обозначает $j$ столбец матрицы, $\\hat{y_i}$ - прогноз класса для рецепта $i$, $<\\cdot, \\cdot>$ - скалярное произведение векторов.\n",
    "\n",
    "Инициализируйте матрицу $W$ случайным образом и получите прогнозы для всех рецептов при помощи этой матрицы и матрицы эмбеддингов. Подсчитайте и выведите на экран значение accuracy на основе полученных прогнозов $\\hat{y}$ и правильных ответов $y$."
   ]
  },
  {
   "cell_type": "code",
   "execution_count": 79,
   "metadata": {},
   "outputs": [
    {
     "data": {
      "text/html": [
       "<table>\n",
       "<tr>\n",
       "<td>\n",
       "<table>\n",
       "  <thead>\n",
       "    <tr><td> </td><th> Array </th><th> Chunk </th></tr>\n",
       "  </thead>\n",
       "  <tbody>\n",
       "    <tr><th> Bytes </th><td> 9.98 kB </td> <td> 9.98 kB </td></tr>\n",
       "    <tr><th> Shape </th><td> (312, 4) </td> <td> (312, 4) </td></tr>\n",
       "    <tr><th> Count </th><td> 1 Tasks </td><td> 1 Chunks </td></tr>\n",
       "    <tr><th> Type </th><td> float64 </td><td> numpy.ndarray </td></tr>\n",
       "  </tbody>\n",
       "</table>\n",
       "</td>\n",
       "<td>\n",
       "<svg width=\"76\" height=\"170\" style=\"stroke:rgb(0,0,0);stroke-width:1\" >\n",
       "\n",
       "  <!-- Horizontal lines -->\n",
       "  <line x1=\"0\" y1=\"0\" x2=\"26\" y2=\"0\" style=\"stroke-width:2\" />\n",
       "  <line x1=\"0\" y1=\"120\" x2=\"26\" y2=\"120\" style=\"stroke-width:2\" />\n",
       "\n",
       "  <!-- Vertical lines -->\n",
       "  <line x1=\"0\" y1=\"0\" x2=\"0\" y2=\"120\" style=\"stroke-width:2\" />\n",
       "  <line x1=\"26\" y1=\"0\" x2=\"26\" y2=\"120\" style=\"stroke-width:2\" />\n",
       "\n",
       "  <!-- Colored Rectangle -->\n",
       "  <polygon points=\"0.000000,0.000000 26.641539,0.000000 26.641539,120.000000 0.000000,120.000000\" style=\"fill:#ECB172A0;stroke-width:0\"/>\n",
       "\n",
       "  <!-- Text -->\n",
       "  <text x=\"13.320770\" y=\"140.000000\" font-size=\"1.0rem\" font-weight=\"100\" text-anchor=\"middle\" >4</text>\n",
       "  <text x=\"46.641539\" y=\"60.000000\" font-size=\"1.0rem\" font-weight=\"100\" text-anchor=\"middle\" transform=\"rotate(-90,46.641539,60.000000)\">312</text>\n",
       "</svg>\n",
       "</td>\n",
       "</tr>\n",
       "</table>"
      ],
      "text/plain": [
       "dask.array<random_sample, shape=(312, 4), dtype=float64, chunksize=(312, 4), chunktype=numpy.ndarray>"
      ]
     },
     "execution_count": 79,
     "metadata": {},
     "output_type": "execute_result"
    }
   ],
   "source": [
    "w = da.random.random((recipe_embeddings.shape[1], 4))\n",
    "w"
   ]
  },
  {
   "cell_type": "code",
   "execution_count": 80,
   "metadata": {},
   "outputs": [
    {
     "data": {
      "text/html": [
       "<table>\n",
       "<tr>\n",
       "<td>\n",
       "<table>\n",
       "  <thead>\n",
       "    <tr><td> </td><th> Array </th><th> Chunk </th></tr>\n",
       "  </thead>\n",
       "  <tbody>\n",
       "    <tr><th> Bytes </th><td> 9.60 MB </td> <td> 800.00 kB </td></tr>\n",
       "    <tr><th> Shape </th><td> (1200000,) </td> <td> (100000,) </td></tr>\n",
       "    <tr><th> Count </th><td> 50 Tasks </td><td> 12 Chunks </td></tr>\n",
       "    <tr><th> Type </th><td> int64 </td><td> numpy.ndarray </td></tr>\n",
       "  </tbody>\n",
       "</table>\n",
       "</td>\n",
       "<td>\n",
       "<svg width=\"170\" height=\"75\" style=\"stroke:rgb(0,0,0);stroke-width:1\" >\n",
       "\n",
       "  <!-- Horizontal lines -->\n",
       "  <line x1=\"0\" y1=\"0\" x2=\"120\" y2=\"0\" style=\"stroke-width:2\" />\n",
       "  <line x1=\"0\" y1=\"25\" x2=\"120\" y2=\"25\" style=\"stroke-width:2\" />\n",
       "\n",
       "  <!-- Vertical lines -->\n",
       "  <line x1=\"0\" y1=\"0\" x2=\"0\" y2=\"25\" style=\"stroke-width:2\" />\n",
       "  <line x1=\"10\" y1=\"0\" x2=\"10\" y2=\"25\" />\n",
       "  <line x1=\"20\" y1=\"0\" x2=\"20\" y2=\"25\" />\n",
       "  <line x1=\"30\" y1=\"0\" x2=\"30\" y2=\"25\" />\n",
       "  <line x1=\"40\" y1=\"0\" x2=\"40\" y2=\"25\" />\n",
       "  <line x1=\"50\" y1=\"0\" x2=\"50\" y2=\"25\" />\n",
       "  <line x1=\"60\" y1=\"0\" x2=\"60\" y2=\"25\" />\n",
       "  <line x1=\"70\" y1=\"0\" x2=\"70\" y2=\"25\" />\n",
       "  <line x1=\"80\" y1=\"0\" x2=\"80\" y2=\"25\" />\n",
       "  <line x1=\"90\" y1=\"0\" x2=\"90\" y2=\"25\" />\n",
       "  <line x1=\"100\" y1=\"0\" x2=\"100\" y2=\"25\" />\n",
       "  <line x1=\"110\" y1=\"0\" x2=\"110\" y2=\"25\" />\n",
       "  <line x1=\"120\" y1=\"0\" x2=\"120\" y2=\"25\" style=\"stroke-width:2\" />\n",
       "\n",
       "  <!-- Colored Rectangle -->\n",
       "  <polygon points=\"0.000000,0.000000 120.000000,0.000000 120.000000,25.412617 0.000000,25.412617\" style=\"fill:#ECB172A0;stroke-width:0\"/>\n",
       "\n",
       "  <!-- Text -->\n",
       "  <text x=\"60.000000\" y=\"45.412617\" font-size=\"1.0rem\" font-weight=\"100\" text-anchor=\"middle\" >1200000</text>\n",
       "  <text x=\"140.000000\" y=\"12.706308\" font-size=\"1.0rem\" font-weight=\"100\" text-anchor=\"middle\" transform=\"rotate(0,140.000000,12.706308)\">1</text>\n",
       "</svg>\n",
       "</td>\n",
       "</tr>\n",
       "</table>"
      ],
      "text/plain": [
       "dask.array<arg_agg-aggregate, shape=(1200000,), dtype=int64, chunksize=(100000,), chunktype=numpy.ndarray>"
      ]
     },
     "execution_count": 80,
     "metadata": {},
     "output_type": "execute_result"
    }
   ],
   "source": [
    "ypred = (recipe_embeddings@w).argmax(axis=1)\n",
    "ypred"
   ]
  },
  {
   "cell_type": "code",
   "execution_count": 81,
   "metadata": {},
   "outputs": [
    {
     "data": {
      "text/plain": [
       "0.216665"
      ]
     },
     "execution_count": 81,
     "metadata": {},
     "output_type": "execute_result"
    }
   ],
   "source": [
    "accuracy = (ypred == recipe_mask).sum()/recipe_mask.shape[0]\n",
    "accuracy.compute()"
   ]
  },
  {
   "cell_type": "markdown",
   "metadata": {},
   "source": [
    "7\\. Сингулярным разложением (SVD) матрицы $A$ размера $M\\times N$ называется разложение вида $A = USV^\\top$, где $U$ - матрица размера $M\\times N$  ортонормированных векторов произведения $AA^\\top$, $V^T$ - транспонированная матрица размера $N\\times N$ ортонормированных векторов произведения $A^\\top A$, $S$ - диагональная матрица сингулярных значений размера $N\\times N$.\n",
    "\n",
    "SVD может быть использовано для понижения размерности векторов. Для этого от матрицы $U$ оставляют первые $k$ столбцов $U_{\\cdot,:k}$, от матрицы $S$ оставляют левый верхний квадрат размера $k\\times k$ $S_{:k,:k}$ и вычисляется произведение $\\hat{A} = U_{\\cdot,:k}S_{:k,:k}$\n",
    "\n",
    "Выберите эмбеддинги тех рецептов, которые относятся к группе с номеров 3, и уменьшите их размерность до 64 при помощи реализации алгоритма SVD из пакета `dask.array.linalg`. Выведите количество строк и столбцов полученного массива.\n",
    "\n",
    "Примечание: после отбора рецепта, принадлежащих третьей группе, вызовите у полученного массива метод `compute_chunk_sizes`, чтобы `dask` обновил метаинформацию в этом массиве. "
   ]
  },
  {
   "cell_type": "code",
   "execution_count": 82,
   "metadata": {},
   "outputs": [],
   "source": [
    "third_group = recipe_embeddings[ohe[:,3]]\n",
    "third_group = third_group.compute_chunk_sizes()"
   ]
  },
  {
   "cell_type": "code",
   "execution_count": 83,
   "metadata": {},
   "outputs": [],
   "source": [
    "u, s, v = da.linalg.svd(third_group)"
   ]
  },
  {
   "cell_type": "code",
   "execution_count": 84,
   "metadata": {},
   "outputs": [],
   "source": [
    "u = u[:, :64]\n",
    "s = s[:64]\n",
    "s = da.diag(s)"
   ]
  },
  {
   "cell_type": "code",
   "execution_count": 85,
   "metadata": {},
   "outputs": [
    {
     "data": {
      "text/plain": [
       "(10000, 64)"
      ]
     },
     "execution_count": 85,
     "metadata": {},
     "output_type": "execute_result"
    }
   ],
   "source": [
    "Apred = u@s\n",
    "Apred.shape"
   ]
  },
  {
   "cell_type": "markdown",
   "metadata": {},
   "source": [
    "8\\. Используя эмбеддинги уменьшенной размерности, полученные в задании 6, посчитайте косинусное сходство между каждой парой рецептов третьей группы. Выведите матрицу косинусного сходства на экран."
   ]
  },
  {
   "cell_type": "code",
   "execution_count": 86,
   "metadata": {},
   "outputs": [],
   "source": [
    "ApredT = Apred.transpose()"
   ]
  },
  {
   "cell_type": "code",
   "execution_count": 87,
   "metadata": {},
   "outputs": [
    {
     "name": "stderr",
     "output_type": "stream",
     "text": [
      "C:\\anaconda\\lib\\site-packages\\dask\\array\\routines.py:264: PerformanceWarning: Increasing number of chunks by factor of 12\n",
      "  intermediate = blockwise(\n",
      "C:\\anaconda\\lib\\site-packages\\dask\\array\\core.py:3949: PerformanceWarning: Increasing number of chunks by factor of 12\n",
      "  result = blockwise(\n"
     ]
    },
    {
     "data": {
      "text/plain": [
       "array([[0.99999977, 0.77996181, 0.70962772, ..., 0.78566258, 0.72498306,\n",
       "        0.70748976],\n",
       "       [0.77996181, 1.00000006, 0.64223853, ..., 0.86709919, 0.61588698,\n",
       "        0.65344269],\n",
       "       [0.70962772, 0.64223853, 1.00000007, ..., 0.64595623, 0.87130879,\n",
       "        0.8715023 ],\n",
       "       ...,\n",
       "       [0.78566258, 0.86709919, 0.64595623, ..., 0.99999999, 0.64296734,\n",
       "        0.6637292 ],\n",
       "       [0.72498306, 0.61588698, 0.87130879, ..., 0.64296734, 0.99999983,\n",
       "        0.91261627],\n",
       "       [0.70748976, 0.65344269, 0.8715023 , ..., 0.6637292 , 0.91261627,\n",
       "        1.00000002]])"
      ]
     },
     "execution_count": 87,
     "metadata": {},
     "output_type": "execute_result"
    }
   ],
   "source": [
    "cossimilarity = da.dot(Apred, ApredT)/(da.linalg.norm(Apred, axis=1) * da.linalg.norm(Apred, axis=1).reshape(-1, 1))\n",
    "cossimilarity.compute()"
   ]
  },
  {
   "cell_type": "markdown",
   "metadata": {},
   "source": [
    "9\\. Посчитайте и выведите на экран количество рецептов, для которых рецепт с индексом `242` входит число топ-5 ближайших рецептов в смысле косинусной близости. При поиске топ-5 рецептов для конкретного рецепта считайте, что он сам в это число не входит."
   ]
  },
  {
   "cell_type": "code",
   "execution_count": 88,
   "metadata": {},
   "outputs": [
    {
     "data": {
      "text/plain": [
       "8"
      ]
     },
     "execution_count": 88,
     "metadata": {},
     "output_type": "execute_result"
    }
   ],
   "source": [
    "((cossimilarity.argtopk(6) == 242).sum() -1).compute()"
   ]
  },
  {
   "cell_type": "markdown",
   "metadata": {},
   "source": [
    "10\\. Графом называется совокупность двух множеств $G=(V,E)$: множества $V=\\{v_1, ..., v_M\\}$ узлов и множества ребер $E=\\{(v_i, v_j)|v_i\\in V, v_j\\in V\\}$, соединяющих эти узлы. Матрицей смежности невзвешенного графа называется квадратная матрица $A=[a_{ij}]$, в которой ${a_{ij}}$ обозначает количество ребер, соединяющих вершины $i$ и $j$.\n",
    "\n",
    "Постройте матрицу смежности для графа рецептов на основе матрицы косинусного сходства между каждой парой рецептов. Будем считать, что между двумя рецептами в этом графе существует ребро, если косинусное сходство между двумя этими рецептами не менее 0.85. Петли (ребра из вершины в саму в себя) в графе должны отсутствовать. Посчитайте и выведите на экран количество ребер в данном графе. Проверьте, является ли полученная матрица смежности симметричной.\n",
    "\n",
    "Примечание: считайте, что два различных рецепта не могут иметь косинусное сходство, равное 1."
   ]
  },
  {
   "cell_type": "code",
   "execution_count": 89,
   "metadata": {},
   "outputs": [
    {
     "data": {
      "text/plain": [
       "23832772"
      ]
     },
     "execution_count": 89,
     "metadata": {},
     "output_type": "execute_result"
    }
   ],
   "source": [
    "smej = cossimilarity * da.logical_not(da.diag(da.ones(cossimilarity.shape[0]))).astype(int)\n",
    "smej = (smej >= 0.85).astype(int)\n",
    "smej.compute().sum()"
   ]
  },
  {
   "cell_type": "code",
   "execution_count": 90,
   "metadata": {},
   "outputs": [
    {
     "data": {
      "text/plain": [
       "False"
      ]
     },
     "execution_count": 90,
     "metadata": {},
     "output_type": "execute_result"
    }
   ],
   "source": [
    "(smej == smej.T).all().compute()"
   ]
  },
  {
   "cell_type": "markdown",
   "metadata": {},
   "source": [
    "11\\. Работая с исходным файлом в формате `h5`, реализуйте алгоритм подсчета среднего вектора датасета в блочной форме.\n",
    "\n",
    "Блочный алгоритм вычислений состоит из двух частей:\n",
    "1. Загрузка фрагмента за фрагментом данных и проведение вычислений над этим фрагментом\n",
    "2. Агрегация результатов вычислений на различных фрагментах для получения результата на уровне всего набора данных\n",
    "\n",
    "Важно: при работе с `h5` в память загружаются не все элементы, а только те, которые запрашиваются в данный момент. При работе с `h5` вы можете работать с массивами `numpy.array`. Для итерации по сегментам файла допускается использование циклов.\n",
    "\n",
    "Сравните время и результаты решения работы вашего алгоритма с реализацией поиска среднего вектора из `dask`. "
   ]
  },
  {
   "cell_type": "code",
   "execution_count": 113,
   "metadata": {},
   "outputs": [
    {
     "name": "stdout",
     "output_type": "stream",
     "text": [
      "Wall time: 748 ms\n"
     ]
    },
    {
     "data": {
      "text/plain": [
       "array([ 9.75613308e-04, -3.39259915e-02,  4.66551557e-02, -8.74476507e-02,\n",
       "       -9.71177034e-03,  5.51532954e-03,  2.71454044e-02,  3.75370905e-02,\n",
       "       -2.35138610e-02, -1.10451411e-02,  2.61558332e-02,  8.86423327e-03,\n",
       "        1.82165187e-02,  5.94256371e-02,  2.72058621e-02, -6.64571533e-03,\n",
       "        3.04658655e-02,  1.03974920e-02,  1.93780344e-02,  1.43449485e-01,\n",
       "       -2.46166624e-03, -5.94153255e-03, -3.18063907e-02, -4.10590284e-02,\n",
       "        8.61882269e-02,  2.80386396e-02, -2.43214611e-02, -4.59721498e-03,\n",
       "        1.09600713e-02,  3.78382765e-02, -1.06729204e-02, -1.57453716e-02,\n",
       "        1.08159299e-03, -2.18519215e-02,  7.02830730e-03,  5.17747067e-02,\n",
       "       -9.01941909e-04, -3.80985737e-02, -7.50487596e-02,  1.78839285e-02,\n",
       "       -6.01360276e-02,  1.52848035e-01,  7.50525817e-02, -3.78861800e-02,\n",
       "       -2.17200909e-02,  3.46800871e-03,  3.78258862e-02, -4.40570116e-02,\n",
       "        4.40716483e-02, -3.56613398e-02,  8.02602526e-03, -3.51645462e-02,\n",
       "       -4.23886068e-02,  3.61051671e-02, -9.72659066e-02,  4.22164388e-02,\n",
       "        5.11278547e-02,  2.77049355e-02,  1.27401287e-02,  1.85521599e-02,\n",
       "        4.57120761e-02,  4.31888886e-02,  9.40933451e-03,  5.38805723e-02,\n",
       "        2.11637765e-02,  9.79876295e-02,  1.36365753e-03, -9.18731559e-03,\n",
       "        7.75334006e-03,  3.38335522e-03,  3.52879018e-02,  9.35992040e-03,\n",
       "       -3.27012613e-02, -8.93249884e-02, -8.47527385e-03, -4.95786704e-02,\n",
       "       -1.22359050e-02, -3.75289656e-02,  2.75824033e-02,  3.82325538e-02,\n",
       "       -6.02782937e-03,  6.43511489e-03, -5.27550131e-02,  3.59736495e-02,\n",
       "       -3.34229786e-03,  2.72828247e-02, -5.24309184e-03,  1.64818354e-02,\n",
       "        2.25580558e-02, -2.09054165e-02,  7.71984383e-02,  6.49009869e-02,\n",
       "        7.99615085e-02,  7.90071301e-03, -1.12463189e-02, -2.40224153e-02,\n",
       "        4.26061414e-02,  7.46190920e-03, -1.49448263e-02,  2.72488650e-02,\n",
       "       -1.59145873e-02,  2.88091730e-02,  3.00884433e-02, -2.48276535e-02,\n",
       "       -1.89418383e-02, -2.75628772e-02,  9.94008034e-03, -4.11241921e-03,\n",
       "       -3.53859216e-02, -1.60156079e-02, -6.81685582e-02,  4.96623339e-03,\n",
       "        8.47197250e-02,  4.98796701e-02,  2.81187370e-02,  4.07871827e-02,\n",
       "       -9.65413377e-02,  1.60226803e-02,  2.47696284e-02, -6.45706654e-02,\n",
       "        3.82247753e-02, -4.43642847e-02, -2.37735733e-02,  6.38588890e-03,\n",
       "       -6.29339591e-02, -1.47311324e-02,  5.12773618e-02, -1.11327888e-02,\n",
       "       -6.71472168e-03,  6.84353616e-03, -2.63281502e-02, -2.91614328e-02,\n",
       "        4.15656492e-02, -1.75915733e-02,  2.11374890e-02,  3.97521449e-04,\n",
       "       -2.34398302e-02,  1.27416826e-03,  5.03009520e-02, -1.41903246e-03,\n",
       "        2.90012956e-02, -1.23920210e-01,  4.18264642e-02,  2.08071750e-02,\n",
       "       -1.53482426e-02, -4.25928012e-02, -6.50813505e-02,  2.16930136e-02,\n",
       "        3.25728804e-02,  4.92710546e-02,  1.27107957e-02, -3.71228270e-02,\n",
       "       -4.40062843e-02, -5.49684130e-02,  3.71041931e-02,  1.99101921e-02,\n",
       "       -1.47375101e-02,  8.11743662e-02,  6.48535714e-02,  5.05882949e-02,\n",
       "        4.55739535e-02, -1.37274824e-02,  5.93501516e-02, -9.72066149e-02,\n",
       "       -6.67067105e-03,  8.16483516e-03,  1.10985078e-02,  1.44168036e-02,\n",
       "       -1.12627866e-02, -1.19114807e-02, -2.72192818e-04,  1.68724358e-02,\n",
       "        8.37170333e-03,  1.18742473e-02,  4.11334783e-02,  4.76576313e-02,\n",
       "        3.15732099e-02, -6.32963888e-03, -8.18585325e-03, -8.89194477e-03,\n",
       "        7.04177395e-02, -1.64567158e-02,  7.80397058e-02, -3.14687192e-02,\n",
       "        7.00757429e-02,  2.12509166e-02, -6.06229343e-03, -1.12460600e-02,\n",
       "        1.40455617e-02,  4.88088764e-02,  7.75099779e-03, -1.53937386e-02,\n",
       "       -6.21983856e-02,  8.96289106e-03,  9.20573696e-02, -5.29911280e-01,\n",
       "        3.48531082e-02,  5.30005135e-02,  4.83882539e-02, -1.15462616e-02,\n",
       "       -9.77664534e-03,  1.44908819e-02, -1.22740073e-02, -1.96601707e-03,\n",
       "       -6.69926405e-02,  1.71923377e-02,  1.24684232e-03, -1.50181204e-02,\n",
       "        3.86963561e-02, -2.20223404e-02, -1.32592348e-03, -1.07633062e-02,\n",
       "        3.53816785e-02,  8.61473754e-02, -3.80215817e-03, -3.93439904e-02,\n",
       "        2.08743587e-02, -6.80793484e-04,  8.79223458e-03,  1.50820054e-02,\n",
       "       -1.75768584e-02,  2.47568302e-02,  1.63916610e-02,  8.95598810e-03,\n",
       "       -3.76104400e-03, -2.11225841e-02, -3.47931534e-02,  2.13234648e-02,\n",
       "       -9.71847214e-03,  2.55059474e-03, -2.43566707e-02, -2.09987839e-03,\n",
       "       -2.09617205e-02, -1.92961600e-02, -8.63745157e-03,  3.17218937e-02,\n",
       "        5.67122921e-02, -4.80271168e-02,  5.50537929e-03, -1.17691420e-02,\n",
       "       -1.95940621e-02,  3.70260142e-02, -2.18715966e-02, -1.62057057e-02,\n",
       "       -7.61052477e-04,  8.07680306e-04, -1.03023474e-03,  3.09864394e-02,\n",
       "       -1.99378915e-02, -1.12921726e-02, -4.55266767e-04,  1.24689015e-02,\n",
       "       -6.04161918e-02, -9.40526798e-02, -1.56641174e-02, -7.09190266e-03,\n",
       "       -2.45840829e-02, -4.36269585e-03, -2.20897682e-02,  1.39252488e-02,\n",
       "        5.61720431e-02,  4.51657027e-02, -3.85405472e-03,  1.09190280e-02,\n",
       "       -9.77814645e-02,  4.80061620e-02, -4.49279100e-02, -1.77839622e-02,\n",
       "        5.26251085e-02, -4.27060331e-05,  1.71298832e-02,  3.33908461e-02,\n",
       "       -1.89228747e-02,  6.23040348e-02,  2.17257868e-02,  1.26852347e-02,\n",
       "        9.94408224e-03, -3.65873612e-02,  2.48323344e-02, -8.13881867e-03,\n",
       "        8.07021782e-02, -6.92803878e-03, -5.17848618e-02,  6.76393956e-02,\n",
       "        5.62964985e-03,  1.53569337e-02, -2.93501075e-02,  2.75426405e-03,\n",
       "       -5.19039342e-03, -5.43002002e-02, -8.58055335e-03,  1.49922725e-02,\n",
       "        6.24009455e-03, -4.21790890e-02, -3.01857349e-02,  9.03212205e-02,\n",
       "       -3.77551839e-02,  2.81668883e-02,  6.69796998e-03, -5.48121631e-02,\n",
       "        6.39850600e-03, -1.16621498e-02,  1.93224438e-02,  5.02772070e-02,\n",
       "       -1.83763541e-02,  1.45909898e-02,  2.97320504e-02,  3.31390719e-03,\n",
       "       -3.47342007e-02,  2.00875793e-02,  4.44886237e-02, -1.07661761e-01],\n",
       "      dtype=float32)"
      ]
     },
     "execution_count": 113,
     "metadata": {},
     "output_type": "execute_result"
    }
   ],
   "source": [
    "%%time\n",
    "recipe_embeddings.mean(axis=0).compute()"
   ]
  },
  {
   "cell_type": "code",
   "execution_count": 114,
   "metadata": {},
   "outputs": [
    {
     "name": "stdout",
     "output_type": "stream",
     "text": [
      "Wall time: 1.02 s\n"
     ]
    },
    {
     "data": {
      "text/plain": [
       "array([ 9.75613240e-04, -3.39259934e-02,  4.66551557e-02, -8.74476402e-02,\n",
       "       -9.71177042e-03,  5.51532962e-03,  2.71454030e-02,  3.75370886e-02,\n",
       "       -2.35138612e-02, -1.10451417e-02,  2.61558332e-02,  8.86423350e-03,\n",
       "        1.82165187e-02,  5.94256412e-02,  2.72058623e-02, -6.64571510e-03,\n",
       "        3.04658658e-02,  1.03974917e-02,  1.93780349e-02,  1.43449499e-01,\n",
       "       -2.46166628e-03, -5.94153271e-03, -3.18063882e-02, -4.10590296e-02,\n",
       "        8.61882350e-02,  2.80386388e-02, -2.43214606e-02, -4.59721525e-03,\n",
       "        1.09600721e-02,  3.78382768e-02, -1.06729195e-02, -1.57453706e-02,\n",
       "        1.08159300e-03, -2.18519202e-02,  7.02830726e-03,  5.17747070e-02,\n",
       "       -9.01941904e-04, -3.80985743e-02, -7.50487664e-02,  1.78839285e-02,\n",
       "       -6.01360320e-02,  1.52848039e-01,  7.50525724e-02, -3.78861800e-02,\n",
       "       -2.17200910e-02,  3.46800830e-03,  3.78258868e-02, -4.40570122e-02,\n",
       "        4.40716480e-02, -3.56613376e-02,  8.02602510e-03, -3.51645456e-02,\n",
       "       -4.23886062e-02,  3.61051656e-02, -9.72658998e-02,  4.22164407e-02,\n",
       "        5.11278560e-02,  2.77049358e-02,  1.27401291e-02,  1.85521600e-02,\n",
       "        4.57120792e-02,  4.31888904e-02,  9.40933404e-03,  5.38805757e-02,\n",
       "        2.11637756e-02,  9.79876320e-02,  1.36365748e-03, -9.18731489e-03,\n",
       "        7.75334002e-03,  3.38335512e-03,  3.52878980e-02,  9.35992055e-03,\n",
       "       -3.27012604e-02, -8.93249853e-02, -8.47527292e-03, -4.95786741e-02,\n",
       "       -1.22359048e-02, -3.75289659e-02,  2.75824027e-02,  3.82325538e-02,\n",
       "       -6.02782999e-03,  6.43511435e-03, -5.27550144e-02,  3.59736501e-02,\n",
       "       -3.34229770e-03,  2.72828232e-02, -5.24309177e-03,  1.64818368e-02,\n",
       "        2.25580564e-02, -2.09054183e-02,  7.71984402e-02,  6.49009924e-02,\n",
       "        7.99615147e-02,  7.90071301e-03, -1.12463192e-02, -2.40224150e-02,\n",
       "        4.26061417e-02,  7.46190959e-03, -1.49448261e-02,  2.72488658e-02,\n",
       "       -1.59145884e-02,  2.88091730e-02,  3.00884428e-02, -2.48276562e-02,\n",
       "       -1.89418389e-02, -2.75628755e-02,  9.94008050e-03, -4.11241921e-03,\n",
       "       -3.53859216e-02, -1.60156093e-02, -6.81685594e-02,  4.96623335e-03,\n",
       "        8.47197318e-02,  4.98796705e-02,  2.81187380e-02,  4.07871806e-02,\n",
       "       -9.65413402e-02,  1.60226796e-02,  2.47696273e-02, -6.45706672e-02,\n",
       "        3.82247741e-02, -4.43642798e-02, -2.37735738e-02,  6.38588875e-03,\n",
       "       -6.29339603e-02, -1.47311342e-02,  5.12773606e-02, -1.11327889e-02,\n",
       "       -6.71472117e-03,  6.84353635e-03, -2.63281513e-02, -2.91614329e-02,\n",
       "        4.15656501e-02, -1.75915731e-02,  2.11374887e-02,  3.97521481e-04,\n",
       "       -2.34398297e-02,  1.27416824e-03,  5.03009449e-02, -1.41903253e-03,\n",
       "        2.90012946e-02, -1.23920213e-01,  4.18264652e-02,  2.08071754e-02,\n",
       "       -1.53482410e-02, -4.25928036e-02, -6.50813511e-02,  2.16930121e-02,\n",
       "        3.25728807e-02,  4.92710555e-02,  1.27107967e-02, -3.71228276e-02,\n",
       "       -4.40062828e-02, -5.49684089e-02,  3.71041937e-02,  1.99101913e-02,\n",
       "       -1.47375090e-02,  8.11743680e-02,  6.48535732e-02,  5.05882955e-02,\n",
       "        4.55739560e-02, -1.37274818e-02,  5.93501525e-02, -9.72066068e-02,\n",
       "       -6.67067101e-03,  8.16483532e-03,  1.10985079e-02,  1.44168034e-02,\n",
       "       -1.12627865e-02, -1.19114811e-02, -2.72192823e-04,  1.68724366e-02,\n",
       "        8.37170309e-03,  1.18742472e-02,  4.11334795e-02,  4.76576270e-02,\n",
       "        3.15732090e-02, -6.32963912e-03, -8.18585310e-03, -8.89194431e-03,\n",
       "        7.04177426e-02, -1.64567144e-02,  7.80397089e-02, -3.14687155e-02,\n",
       "        7.00757392e-02,  2.12509170e-02, -6.06229315e-03, -1.12460606e-02,\n",
       "        1.40455612e-02,  4.88088798e-02,  7.75099775e-03, -1.53937392e-02,\n",
       "       -6.21983865e-02,  8.96289006e-03,  9.20573721e-02, -5.29911265e-01,\n",
       "        3.48531110e-02,  5.30005187e-02,  4.83882579e-02, -1.15462618e-02,\n",
       "       -9.77664518e-03,  1.44908814e-02, -1.22740075e-02, -1.96601709e-03,\n",
       "       -6.69926479e-02,  1.71923364e-02,  1.24684235e-03, -1.50181214e-02,\n",
       "        3.86963561e-02, -2.20223412e-02, -1.32592345e-03, -1.07633064e-02,\n",
       "        3.53816810e-02,  8.61473729e-02, -3.80215838e-03, -3.93439938e-02,\n",
       "        2.08743596e-02, -6.80793441e-04,  8.79223528e-03,  1.50820042e-02,\n",
       "       -1.75768578e-02,  2.47568272e-02,  1.63916592e-02,  8.95598787e-03,\n",
       "       -3.76104387e-03, -2.11225851e-02, -3.47931540e-02,  2.13234659e-02,\n",
       "       -9.71847206e-03,  2.55059457e-03, -2.43566685e-02, -2.09987840e-03,\n",
       "       -2.09617203e-02, -1.92961601e-02, -8.63745110e-03,  3.17218934e-02,\n",
       "        5.67122865e-02, -4.80271118e-02,  5.50537964e-03, -1.17691417e-02,\n",
       "       -1.95940624e-02,  3.70260157e-02, -2.18715964e-02, -1.62057071e-02,\n",
       "       -7.61052487e-04,  8.07680316e-04, -1.03023474e-03,  3.09864376e-02,\n",
       "       -1.99378920e-02, -1.12921717e-02, -4.55266806e-04,  1.24689012e-02,\n",
       "       -6.04161884e-02, -9.40526817e-02, -1.56641171e-02, -7.09190293e-03,\n",
       "       -2.45840821e-02, -4.36269577e-03, -2.20897680e-02,  1.39252487e-02,\n",
       "        5.61720418e-02,  4.51657027e-02, -3.85405488e-03,  1.09190276e-02,\n",
       "       -9.77814651e-02,  4.80061624e-02, -4.49279087e-02, -1.77839623e-02,\n",
       "        5.26251085e-02, -4.27060293e-05,  1.71298819e-02,  3.33908442e-02,\n",
       "       -1.89228742e-02,  6.23040367e-02,  2.17257889e-02,  1.26852348e-02,\n",
       "        9.94408216e-03, -3.65873603e-02,  2.48323345e-02, -8.13881851e-03,\n",
       "        8.07021844e-02, -6.92803933e-03, -5.17848609e-02,  6.76393944e-02,\n",
       "        5.62965036e-03,  1.53569332e-02, -2.93501082e-02,  2.75426410e-03,\n",
       "       -5.19039350e-03, -5.43001996e-02, -8.58055404e-03,  1.49922713e-02,\n",
       "        6.24009424e-03, -4.21790894e-02, -3.01857352e-02,  9.03212205e-02,\n",
       "       -3.77551857e-02,  2.81668898e-02,  6.69796990e-03, -5.48121594e-02,\n",
       "        6.39850580e-03, -1.16621503e-02,  1.93224465e-02,  5.02772102e-02,\n",
       "       -1.83763549e-02,  1.45909900e-02,  2.97320491e-02,  3.31390754e-03,\n",
       "       -3.47342029e-02,  2.00875797e-02,  4.44886213e-02, -1.07661760e-01])"
      ]
     },
     "execution_count": 114,
     "metadata": {},
     "output_type": "execute_result"
    }
   ],
   "source": [
    "%%time\n",
    "hdf = h5py.File('recipe_embeddings.h5', \"r\")\n",
    "dset = hdf['embeddings']\n",
    "\n",
    "mean_array = np.array([], 'float64')\n",
    "fragments = int(dset.shape[0]/100000)\n",
    "\n",
    "for f in range(1, fragments+1):\n",
    "    mean_array = np.append(mean_array, np.array([dset[(f-1)*100000:f*100000].mean(axis=0)]))\n",
    "       \n",
    "mean_array.reshape(fragments, -1).mean(axis=0)"
   ]
  }
 ],
 "metadata": {
  "kernelspec": {
   "display_name": "Python 3",
   "language": "python",
   "name": "python3"
  },
  "language_info": {
   "codemirror_mode": {
    "name": "ipython",
    "version": 3
   },
   "file_extension": ".py",
   "mimetype": "text/x-python",
   "name": "python",
   "nbconvert_exporter": "python",
   "pygments_lexer": "ipython3",
   "version": "3.8.3"
  }
 },
 "nbformat": 4,
 "nbformat_minor": 2
}
