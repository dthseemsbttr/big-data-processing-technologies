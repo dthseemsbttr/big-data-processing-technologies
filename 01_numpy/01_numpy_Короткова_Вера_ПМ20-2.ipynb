{
 "cells": [
  {
   "cell_type": "markdown",
   "metadata": {},
   "source": [
    "# Numpy"
   ]
  },
  {
   "cell_type": "markdown",
   "metadata": {},
   "source": [
    "Материалы:\n",
    "* Макрушин С.В. \"Лекция 1: Библиотека Numpy\"\n",
    "* https://numpy.org/doc/stable/user/index.html\n",
    "* https://numpy.org/doc/stable/reference/index.html\n",
    "* Уэс Маккини. Python и анализ данных"
   ]
  },
  {
   "cell_type": "markdown",
   "metadata": {},
   "source": [
    "## Задачи для совместного разбора"
   ]
  },
  {
   "cell_type": "code",
   "execution_count": 2,
   "metadata": {},
   "outputs": [
    {
     "data": {
      "text/plain": [
       "'1.20.3'"
      ]
     },
     "execution_count": 2,
     "metadata": {},
     "output_type": "execute_result"
    }
   ],
   "source": [
    "import numpy as np\n",
    "np.__version__"
   ]
  },
  {
   "cell_type": "markdown",
   "metadata": {},
   "source": [
    "1. Сгенерировать двухмерный массив `arr` размерности (4, 7), состоящий из случайных действительных чисел, равномерно распределенных в диапазоне от 0 до 20. Нормализовать значения массива с помощью преобразования вида  $𝑎𝑥+𝑏$  так, что после нормализации максимальный элемент масcива будет равен 1.0, минимальный 0.0"
   ]
  },
  {
   "cell_type": "code",
   "execution_count": 8,
   "metadata": {},
   "outputs": [
    {
     "name": "stdout",
     "output_type": "stream",
     "text": [
      "[[19.99060678  5.51507103 16.74499334 16.51323716  9.00082095 11.50752259\n",
      "  18.17806792]\n",
      " [13.26841541 12.02915348 18.88603532 19.41432265  9.83883863  4.52918549\n",
      "  16.43156399]\n",
      " [19.11245715  4.83473454  6.40513994 17.73283752 15.45441987  1.1287809\n",
      "   7.23696844]\n",
      " [12.99447724  8.04463126  3.12178839 18.2311408   8.13306246  5.21621857\n",
      "  13.7063788 ]]\n",
      "[[ 9.85784174  9.71312356 15.52197463  7.06098357 19.99451005  2.37299844\n",
      "   6.0872907 ]\n",
      " [14.55648068 16.29041759 12.46352877  7.01810463  1.13156017  7.33432325\n",
      "   0.32375689]\n",
      " [ 5.45245319  2.33238253  0.78401168 18.53308026  6.82186077  1.02416373\n",
      "  16.22899789]\n",
      " [16.91497139  7.81753798 15.12818677 19.06667781  6.95812761  7.54446233\n",
      "  18.49661056]]\n"
     ]
    }
   ],
   "source": [
    "arr = np.random.uniform(low=0, high=20, size=(4, 7))\n",
    "arr2 = np.random.uniform(low=0, high=20, size=(4, 7))\n",
    "\n",
    "print(arr)\n",
    "print(arr2)"
   ]
  },
  {
   "cell_type": "code",
   "execution_count": 9,
   "metadata": {},
   "outputs": [
    {
     "data": {
      "text/plain": [
       "array([[119.99060678, 105.51507103, 116.74499334, 116.51323716,\n",
       "        109.00082095, 111.50752259, 118.17806792],\n",
       "       [113.26841541, 112.02915348, 118.88603532, 119.41432265,\n",
       "        109.83883863, 104.52918549, 116.43156399],\n",
       "       [119.11245715, 104.83473454, 106.40513994, 117.73283752,\n",
       "        115.45441987, 101.1287809 , 107.23696844],\n",
       "       [112.99447724, 108.04463126, 103.12178839, 118.2311408 ,\n",
       "        108.13306246, 105.21621857, 113.7063788 ]])"
      ]
     },
     "execution_count": 9,
     "metadata": {},
     "output_type": "execute_result"
    }
   ],
   "source": [
    "arr + 100"
   ]
  },
  {
   "cell_type": "code",
   "execution_count": 10,
   "metadata": {},
   "outputs": [
    {
     "data": {
      "text/plain": [
       "array([[29.84844851, 15.22819459, 32.26696796, 23.57422072, 28.995331  ,\n",
       "        13.88052103, 24.26535862],\n",
       "       [27.8248961 , 28.31957107, 31.34956408, 26.43242728, 10.97039879,\n",
       "        11.86350874, 16.75532087],\n",
       "       [24.56491033,  7.16711706,  7.18915162, 36.26591777, 22.27628064,\n",
       "         2.15294463, 23.46596633],\n",
       "       [29.90944864, 15.86216924, 18.24997516, 37.29781861, 15.09119007,\n",
       "        12.76068091, 32.20298936]])"
      ]
     },
     "execution_count": 10,
     "metadata": {},
     "output_type": "execute_result"
    }
   ],
   "source": [
    "arr + arr2"
   ]
  },
  {
   "cell_type": "code",
   "execution_count": 11,
   "metadata": {},
   "outputs": [
    {
     "data": {
      "text/plain": [
       "(1.1287809006204652, 19.990606777726118, 1.1287809006204652)"
      ]
     },
     "execution_count": 11,
     "metadata": {},
     "output_type": "execute_result"
    }
   ],
   "source": [
    "arr.min(), arr.max(), np.min(arr)"
   ]
  },
  {
   "cell_type": "code",
   "execution_count": 12,
   "metadata": {},
   "outputs": [
    {
     "data": {
      "text/plain": [
       "array([[1.        , 0.23254854, 0.82792687, 0.81563982, 0.41735302,\n",
       "        0.55025117, 0.90390438],\n",
       "       [0.64360866, 0.57790654, 0.94143878, 0.96944707, 0.46178232,\n",
       "        0.18027971, 0.81130974],\n",
       "       [0.95344302, 0.19647905, 0.27973745, 0.88029954, 0.75950436,\n",
       "        0.        , 0.32383861],\n",
       "       [0.62908524, 0.36665858, 0.10566355, 0.90671815, 0.37134695,\n",
       "        0.21670424, 0.66682823]])"
      ]
     },
     "execution_count": 12,
     "metadata": {},
     "output_type": "execute_result"
    }
   ],
   "source": [
    "(arr - arr.min())/(arr.max()-arr.min())"
   ]
  },
  {
   "cell_type": "markdown",
   "metadata": {},
   "source": [
    "2. Создать матрицу 8 на 10 из случайных целых (используя модуль `numpy.random`) чисел из диапозона от 0 до 10 и найти в ней строку (ее индекс и вывести саму строку), в которой сумма значений минимальна."
   ]
  },
  {
   "cell_type": "code",
   "execution_count": 15,
   "metadata": {},
   "outputs": [
    {
     "data": {
      "text/plain": [
       "array([[4, 7, 2, 6, 2, 8, 1, 1, 2, 0],\n",
       "       [7, 9, 2, 1, 8, 6, 6, 0, 7, 6],\n",
       "       [9, 3, 5, 7, 8, 1, 4, 8, 4, 6],\n",
       "       [3, 1, 1, 4, 5, 6, 3, 1, 1, 6],\n",
       "       [2, 9, 8, 3, 7, 7, 7, 4, 4, 8],\n",
       "       [2, 8, 2, 7, 2, 4, 5, 4, 9, 2],\n",
       "       [2, 5, 2, 9, 8, 5, 6, 6, 2, 9],\n",
       "       [5, 5, 1, 4, 7, 5, 9, 8, 9, 6]])"
      ]
     },
     "execution_count": 15,
     "metadata": {},
     "output_type": "execute_result"
    }
   ],
   "source": [
    "arr = np.random.randint(low=0, high=10, size=(8,10))\n",
    "arr"
   ]
  },
  {
   "cell_type": "code",
   "execution_count": 16,
   "metadata": {},
   "outputs": [
    {
     "data": {
      "text/plain": [
       "5"
      ]
     },
     "execution_count": 16,
     "metadata": {},
     "output_type": "execute_result"
    }
   ],
   "source": [
    "arr[3, 4]"
   ]
  },
  {
   "cell_type": "code",
   "execution_count": 18,
   "metadata": {},
   "outputs": [
    {
     "data": {
      "text/plain": [
       "array([[2, 8, 1, 1],\n",
       "       [8, 6, 6, 0],\n",
       "       [8, 1, 4, 8]])"
      ]
     },
     "execution_count": 18,
     "metadata": {},
     "output_type": "execute_result"
    }
   ],
   "source": [
    "arr[:3, 4:8]"
   ]
  },
  {
   "cell_type": "code",
   "execution_count": 19,
   "metadata": {},
   "outputs": [
    {
     "data": {
      "text/plain": [
       "array([[2, 8, 1, 1],\n",
       "       [8, 6, 6, 0],\n",
       "       [8, 1, 4, 8],\n",
       "       [5, 6, 3, 1],\n",
       "       [7, 7, 7, 4],\n",
       "       [2, 4, 5, 4],\n",
       "       [8, 5, 6, 6],\n",
       "       [7, 5, 9, 8]])"
      ]
     },
     "execution_count": 19,
     "metadata": {},
     "output_type": "execute_result"
    }
   ],
   "source": [
    "arr[:, 4:8]"
   ]
  },
  {
   "cell_type": "code",
   "execution_count": 21,
   "metadata": {},
   "outputs": [
    {
     "data": {
      "text/plain": [
       "array([34, 47, 23, 41, 47, 42, 41, 32, 38, 43])"
      ]
     },
     "execution_count": 21,
     "metadata": {},
     "output_type": "execute_result"
    }
   ],
   "source": [
    "arr.sum(axis=0)  #вдоль нулевой оси - по столбцам"
   ]
  },
  {
   "cell_type": "code",
   "execution_count": 22,
   "metadata": {},
   "outputs": [
    {
     "data": {
      "text/plain": [
       "array([33, 52, 55, 31, 59, 45, 54, 59])"
      ]
     },
     "execution_count": 22,
     "metadata": {},
     "output_type": "execute_result"
    }
   ],
   "source": [
    "sum_by_row = arr.sum(axis=1)\n",
    "sum_by_row"
   ]
  },
  {
   "cell_type": "code",
   "execution_count": 24,
   "metadata": {},
   "outputs": [
    {
     "data": {
      "text/plain": [
       "3"
      ]
     },
     "execution_count": 24,
     "metadata": {},
     "output_type": "execute_result"
    }
   ],
   "source": [
    "min_row_idx = sum_by_row.argmin()\n",
    "min_row_idx"
   ]
  },
  {
   "cell_type": "code",
   "execution_count": 25,
   "metadata": {},
   "outputs": [
    {
     "data": {
      "text/plain": [
       "array([3, 1, 1, 4, 5, 6, 3, 1, 1, 6])"
      ]
     },
     "execution_count": 25,
     "metadata": {},
     "output_type": "execute_result"
    }
   ],
   "source": [
    "arr[min_row_idx]"
   ]
  },
  {
   "cell_type": "markdown",
   "metadata": {},
   "source": [
    "3. Найти евклидово расстояние между двумя одномерными векторами одинаковой размерности."
   ]
  },
  {
   "cell_type": "code",
   "execution_count": 31,
   "metadata": {},
   "outputs": [
    {
     "data": {
      "text/plain": [
       "2.0"
      ]
     },
     "execution_count": 31,
     "metadata": {},
     "output_type": "execute_result"
    }
   ],
   "source": [
    "x = np.array([1, 2, 3])\n",
    "y = np.array([1, 0, 3])\n",
    "\n",
    "np.sqrt(np.power(x - y, 2).sum())"
   ]
  },
  {
   "cell_type": "markdown",
   "metadata": {},
   "source": [
    "4. Решить матричное уравнение `A*X*B=-C` - найти матрицу `X`. Где `A = [[-1, 2, 4], [-3, 1, 2], [-3, 0, 1]]`, `B=[[3, -1], [2, 1]]`, `C=[[7, 21], [11, 8], [8, 4]]`."
   ]
  },
  {
   "cell_type": "code",
   "execution_count": 35,
   "metadata": {},
   "outputs": [],
   "source": [
    "A = np.array([[-1, 2, 4], [-3, 1, 2], [-3, 0, 1]])\n",
    "B = np.array([[3, -1], [2, 1]])\n",
    "C = np.array([[7, 21], [11, 8], [8, 4]])"
   ]
  },
  {
   "cell_type": "code",
   "execution_count": 37,
   "metadata": {},
   "outputs": [
    {
     "data": {
      "text/plain": [
       "array([[ 1.00000000e+00,  1.11022302e-15],\n",
       "       [-2.00000000e+00,  1.00000000e+00],\n",
       "       [ 3.00000000e+00, -4.00000000e+00]])"
      ]
     },
     "execution_count": 37,
     "metadata": {},
     "output_type": "execute_result"
    }
   ],
   "source": [
    "X = np.linalg.inv(A) @ (-C) @ np.linalg.inv(B)\n",
    "X"
   ]
  },
  {
   "cell_type": "code",
   "execution_count": 42,
   "metadata": {},
   "outputs": [
    {
     "data": {
      "text/plain": [
       "array([[ -7., -21.],\n",
       "       [-11.,  -8.],\n",
       "       [ -8.,  -4.]])"
      ]
     },
     "execution_count": 42,
     "metadata": {},
     "output_type": "execute_result"
    }
   ],
   "source": [
    "A @ X @ B"
   ]
  },
  {
   "cell_type": "markdown",
   "metadata": {},
   "source": [
    "## Лабораторная работа №1"
   ]
  },
  {
   "cell_type": "markdown",
   "metadata": {},
   "source": [
    "__При решении данных задач не подразумевается использования циклов или генераторов Python, если в задании не сказано обратного. Решение должно опираться на использования функционала библиотеки `numpy`.__"
   ]
  },
  {
   "cell_type": "markdown",
   "metadata": {},
   "source": [
    "1. Файл `minutes_n_ingredients.csv` содержит информацию об идентификаторе рецепта, времени его выполнения в минутах и количестве необходимых ингредиентов. Считайте данные из этого файла в виде массива `numpy` типа `int32`, используя `np.loadtxt`. Выведите на экран первые 5 строк массива."
   ]
  },
  {
   "cell_type": "code",
   "execution_count": 2,
   "metadata": {},
   "outputs": [
    {
     "data": {
      "text/plain": [
       "array([[127244,     60,     16],\n",
       "       [ 23891,     25,      7],\n",
       "       [ 94746,     10,      6],\n",
       "       [ 67660,      5,      6],\n",
       "       [157911,     60,     14]])"
      ]
     },
     "execution_count": 2,
     "metadata": {},
     "output_type": "execute_result"
    }
   ],
   "source": [
    "arr = np.loadtxt('minutes_n_ingredients.csv', dtype = np.int32, delimiter = ',', skiprows = 1)\n",
    "arr[:5]"
   ]
  },
  {
   "cell_type": "markdown",
   "metadata": {},
   "source": [
    "2. Вычислите среднее значение, минимум, максимум и медиану по каждому из столбцов, кроме первого."
   ]
  },
  {
   "cell_type": "code",
   "execution_count": 37,
   "metadata": {},
   "outputs": [
    {
     "name": "stdout",
     "output_type": "stream",
     "text": [
      "[2.16010017e+04 9.05528000e+00]\n",
      "[0 1]\n",
      "[2147483647         39]\n",
      "[40.  9.]\n"
     ]
    }
   ],
   "source": [
    "mean = np.mean(arr[:, 1:], axis = 0)\n",
    "minarr = np.min(arr[:, 1:], axis = 0)\n",
    "maxarr = np.max(arr[:, 1:], axis = 0)\n",
    "median = np.median(arr[:, 1:], axis = 0)\n",
    "\n",
    "print(mean)\n",
    "print(minarr)\n",
    "print(maxarr)\n",
    "print(median)"
   ]
  },
  {
   "cell_type": "markdown",
   "metadata": {},
   "source": [
    "3. Выберите случайным образом и выведите информацию о 10 различных рецептах"
   ]
  },
  {
   "cell_type": "code",
   "execution_count": 26,
   "metadata": {},
   "outputs": [
    {
     "name": "stdout",
     "output_type": "stream",
     "text": [
      "[[133492    120      7]\n",
      " [266518     27      9]\n",
      " [ 98842   1560     10]\n",
      " [ 81875    135     11]\n",
      " [172470     40     15]\n",
      " [ 33538     40      9]\n",
      " [307509     25      5]\n",
      " [245986   1470      5]\n",
      " [348888     40      8]\n",
      " [407643     50     11]]\n"
     ]
    }
   ],
   "source": [
    "tenrecipes = arr[np.random.randint(0, len(arr), size=10)]\n",
    "print(tenrecipes)"
   ]
  },
  {
   "cell_type": "markdown",
   "metadata": {},
   "source": [
    "4. Создайте версию массива, содержащую информацию только о рецептах, состоящих не более чем из 5 ингредиентов."
   ]
  },
  {
   "cell_type": "code",
   "execution_count": 35,
   "metadata": {},
   "outputs": [
    {
     "name": "stdout",
     "output_type": "stream",
     "text": [
      "[[446597     15      5]\n",
      " [204134      5      3]\n",
      " [ 25623      6      4]\n",
      " ...\n",
      " [ 52088     60      5]\n",
      " [128811     15      4]\n",
      " [370915      5      4]]\n"
     ]
    }
   ],
   "source": [
    "arr_five_ingr = arr[arr[:, 2]<=5]\n",
    "print(arr_five_ingr)"
   ]
  },
  {
   "cell_type": "markdown",
   "metadata": {},
   "source": [
    "5. Выведите процент рецептов, кол-во ингредиентов в которых меньше среднего."
   ]
  },
  {
   "cell_type": "code",
   "execution_count": 41,
   "metadata": {},
   "outputs": [
    {
     "name": "stdout",
     "output_type": "stream",
     "text": [
      "58.802 %\n"
     ]
    }
   ],
   "source": [
    "arr_lessmean_ingr = arr[arr[:, 2] < mean[1]]\n",
    "print(100*len(arr_lessmean_ingr)/len(arr), '%')"
   ]
  },
  {
   "cell_type": "markdown",
   "metadata": {},
   "source": [
    "6. Вычислите значение $q_{0.75}$ третьего квартиля продолжительности выполнения рецепта. Замените в этом столбце значения, большие чем $q_{0.75}$ на величину $q_{0.75}$."
   ]
  },
  {
   "cell_type": "code",
   "execution_count": 12,
   "metadata": {},
   "outputs": [
    {
     "name": "stdout",
     "output_type": "stream",
     "text": [
      "65.0\n"
     ]
    },
    {
     "data": {
      "text/plain": [
       "array([[127244,     60,     16],\n",
       "       [ 23891,     25,      7],\n",
       "       [ 94746,     10,      6],\n",
       "       ...,\n",
       "       [498432,     65,     15],\n",
       "       [370915,      5,      4],\n",
       "       [    65,     65,     65]])"
      ]
     },
     "execution_count": 12,
     "metadata": {},
     "output_type": "execute_result"
    }
   ],
   "source": [
    "arr_new = np.copy(arr)\n",
    "print(np.quantile(arr[:, 1], q = 0.75))\n",
    "arr_new[arr[:, 1] > np.quantile(arr[:, 1], q = 0.75) ] = np.quantile(arr[:, 1], q = 0.75)\n",
    "arr_new"
   ]
  },
  {
   "cell_type": "markdown",
   "metadata": {},
   "source": [
    "7. Посчитайте, для скольких рецептов исходного массива указана продолжительность, равная нулю. Модифицируйте исходный массив, заменив для таких строк значение в данном столбце на 1."
   ]
  },
  {
   "cell_type": "code",
   "execution_count": 86,
   "metadata": {},
   "outputs": [
    {
     "name": "stdout",
     "output_type": "stream",
     "text": [
      "479\n",
      "[[127244     60     16]\n",
      " [ 23891     25      7]\n",
      " [ 94746     10      6]\n",
      " ...\n",
      " [498432     65     15]\n",
      " [370915      5      4]\n",
      " [ 81993    140     14]]\n"
     ]
    }
   ],
   "source": [
    "count_zero = len(arr[arr[:,1] == 0])\n",
    "arr_new_2  = np.copy(arr)\n",
    "arr_new_2[arr_new_2[:, 1] == 0] = 1\n",
    "\n",
    "print(count_zero)\n",
    "print(arr_new_2)"
   ]
  },
  {
   "cell_type": "markdown",
   "metadata": {},
   "source": [
    "8. Найдите множество возможных значений величины количества ингредиентов и количество вхождений каждого из уникальных значений в набор данных. Используя `numpy.isin`, выясните, какие числа из отрезка [1, 41] отсуствуют в данном множестве и выведите их на экран. "
   ]
  },
  {
   "cell_type": "code",
   "execution_count": 75,
   "metadata": {},
   "outputs": [
    {
     "name": "stdout",
     "output_type": "stream",
     "text": [
      "[ 1  2  3  4  5  6  7  8  9 10 11 12 13 14 15 16 17 18 19 20 21 22 23 24\n",
      " 25 26 27 28 29 30 31 32 33 34 35 37 39] [   13   926  2895  5515  7913  9376 10628 10951 10585  9591  8297  6605\n",
      "  4997  3663  2595  1767  1246   790   573   376   217   161   105    69\n",
      "    50    28    16    16    12    12     3     1     2     1     3     1\n",
      "     1]\n"
     ]
    },
    {
     "data": {
      "text/plain": [
       "array([36, 38, 40, 41])"
      ]
     },
     "execution_count": 75,
     "metadata": {},
     "output_type": "execute_result"
    }
   ],
   "source": [
    "ingr_unique, ingr_unique_counts = np.unique(arr[:,2], return_counts = True)\n",
    "print(ingr_unique, ingr_unique_counts)\n",
    "\n",
    "bool_arr = np.isin(np.arange(1, 42), ingr_unique)\n",
    "np.arange(1, 42)[np.logical_not(bool_arr)]"
   ]
  },
  {
   "cell_type": "markdown",
   "metadata": {},
   "source": [
    "9. Для каждого рецепта посчитайте, сколько в среднем ингредиентов приходится на одну минуту рецепта. Найдите максимальное значение этой величины для всего датасета."
   ]
  },
  {
   "cell_type": "code",
   "execution_count": 14,
   "metadata": {},
   "outputs": [
    {
     "name": "stdout",
     "output_type": "stream",
     "text": [
      "[0.26666667 0.28       0.6        ... 0.23076923 0.8        0.1       ]\n",
      "23.0\n"
     ]
    }
   ],
   "source": [
    "ingr_for_min = arr[arr[:,1]!=0, 2]/arr[arr[:,1]!=0, 1]\n",
    "print(ingr_for_min)\n",
    "print(np.max(ingr_for_min))"
   ]
  },
  {
   "cell_type": "markdown",
   "metadata": {},
   "source": [
    "10. Вычислите среднее количество ингредиентов для топ-100 рецептов с наибольшей продолжительностью"
   ]
  },
  {
   "cell_type": "code",
   "execution_count": 139,
   "metadata": {},
   "outputs": [
    {
     "data": {
      "text/plain": [
       "6.617647058823529"
      ]
     },
     "execution_count": 139,
     "metadata": {},
     "output_type": "execute_result"
    }
   ],
   "source": [
    "top_min = sorted(arr[:,1])[::-1][:100]\n",
    "top = arr[arr[:, 1] >= top_min[-1], :100]\n",
    "np.mean(top[:, 2])"
   ]
  },
  {
   "cell_type": "markdown",
   "metadata": {},
   "source": [
    "11. Назовем \"простым\" такой рецепт, длительность выполнения которого не больше 20 минут и кол-во ингредиентов в котором не больше 5. Создайте версию датасета с дополнительным столбцом, значениями которого являются 1, если рецепт простой, и 0 в противном случае. Выведите процент \"простых\" рецептов в датасете."
   ]
  },
  {
   "cell_type": "code",
   "execution_count": 15,
   "metadata": {},
   "outputs": [
    {
     "name": "stdout",
     "output_type": "stream",
     "text": [
      "[[127244     60     16      0]\n",
      " [ 23891     25      7      0]\n",
      " [ 94746     10      6      0]\n",
      " ...\n",
      " [498432     65     15      0]\n",
      " [370915      5      4      1]\n",
      " [ 81993    140     14      0]]\n",
      "9.552 %\n"
     ]
    }
   ],
   "source": [
    "condition = np.int32((arr[:, 1] <= 20) & (arr[:, 2] <= 5))\n",
    "condition = condition.reshape((len(condition), 1))\n",
    "graded_recipes = np.concatenate((arr, condition), axis = 1)\n",
    "print(graded_recipes)\n",
    "print(100*len(graded_recipes[graded_recipes[:,3]==1])/len(graded_recipes), '%')"
   ]
  },
  {
   "cell_type": "markdown",
   "metadata": {},
   "source": [
    "12. Разделим рецепты на группы по следующему правилу. Назовем рецепты короткими, если их продолжительность составляет менее 10 минут; стандартными, если их продолжительность составляет не менее 10, но менее 20 минут; и длинными, если их продолжительность составляет не менее 20 минут. Создайте трехмерный массив, где нулевая ось отвечает за номер группы (короткий, стандартный или длинный рецепт), первая ось - за сам рецепт и вторая ось - за характеристики рецепта. Выберите максимальное количество рецептов из каждой группы таким образом, чтобы было возможно сформировать трехмерный массив. Выведите форму полученного массива."
   ]
  },
  {
   "cell_type": "code",
   "execution_count": 8,
   "metadata": {},
   "outputs": [
    {
     "name": "stdout",
     "output_type": "stream",
     "text": [
      "[[[ 67660      5      6]\n",
      "  [366174      7      9]\n",
      "  [204134      5      3]\n",
      "  ...\n",
      "  [420725      5      3]\n",
      "  [  4747      0      9]\n",
      "  [370915      5      4]]\n",
      "\n",
      " [[ 94746     10      6]\n",
      "  [ 33941     18      9]\n",
      "  [446597     15      5]\n",
      "  ...\n",
      "  [  9831     15      7]\n",
      "  [335859     12     14]\n",
      "  [256812     10      3]]\n",
      "\n",
      " [[127244     60     16]\n",
      "  [ 23891     25      7]\n",
      "  [157911     60     14]\n",
      "  ...\n",
      "  [168901     25      7]\n",
      "  [392339     35     13]\n",
      "  [206732     45     10]]]\n",
      "(3, 7588, 3)\n"
     ]
    }
   ],
   "source": [
    "short_arr = arr[arr[:, 1] < 10]\n",
    "standard_arr = arr[(arr[:, 1] >= 10) & (arr[:, 1] < 20)]\n",
    "long_arr = arr[arr[:, 1] >= 20]\n",
    "\n",
    "length = np.min([len(short_arr), len(standard_arr), len(long_arr)])\n",
    "result_arr = np.array([short_arr[:length], standard_arr[:length], long_arr[:length]])\n",
    "print(result_arr)\n",
    "print(result_arr.shape)"
   ]
  },
  {
   "cell_type": "markdown",
   "metadata": {},
   "source": [
    "13. Пусть в среднем одна минута работы повара стоит ресторану 5 ед., а средняя стоимость одного ингредиента составляет 10 ед. \n",
    "Создайте вектор-столбец `numpy`, содержащий данную информацию. Посчитайте среднюю стоимость приготовления для каждого из первых 10 рецептов в наборе данных."
   ]
  },
  {
   "cell_type": "code",
   "execution_count": 142,
   "metadata": {},
   "outputs": [
    {
     "data": {
      "text/plain": [
       "array([[460],\n",
       "       [195],\n",
       "       [110],\n",
       "       [ 85],\n",
       "       [440],\n",
       "       [270],\n",
       "       [180],\n",
       "       [125],\n",
       "       [125],\n",
       "       [170]])"
      ]
     },
     "execution_count": 142,
     "metadata": {},
     "output_type": "execute_result"
    }
   ],
   "source": [
    "numpy = np.array([[5], [10]])\n",
    "arr[:10][:, 1:]@numpy"
   ]
  }
 ],
 "metadata": {
  "kernelspec": {
   "display_name": "Python 3",
   "language": "python",
   "name": "python3"
  },
  "language_info": {
   "codemirror_mode": {
    "name": "ipython",
    "version": 3
   },
   "file_extension": ".py",
   "mimetype": "text/x-python",
   "name": "python",
   "nbconvert_exporter": "python",
   "pygments_lexer": "ipython3",
   "version": "3.8.3"
  }
 },
 "nbformat": 4,
 "nbformat_minor": 4
}
