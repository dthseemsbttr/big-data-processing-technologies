{
 "cells": [
  {
   "cell_type": "markdown",
   "metadata": {},
   "source": [
    "# Pandas (2)"
   ]
  },
  {
   "cell_type": "markdown",
   "metadata": {},
   "source": [
    "Материалы:\n",
    "* Макрушин С.В. \"Лекция 2: Библиотека Pandas\"\n",
    "* https://pandas.pydata.org/docs/user_guide/index.html#\n",
    "* https://pandas.pydata.org/docs/reference/index.html\n",
    "* Уэс Маккини. Python и анализ данных"
   ]
  },
  {
   "cell_type": "markdown",
   "metadata": {},
   "source": [
    "## Задачи для совместного разбора"
   ]
  },
  {
   "cell_type": "markdown",
   "metadata": {},
   "source": [
    "1. Загрузите данные из файла `sp500hst.txt` и обозначьте столбцы в соответствии с содержимым: `\"date\", \"ticker\", \"open\", \"high\", \"low\", \"close\", \"volume\"`."
   ]
  },
  {
   "cell_type": "code",
   "execution_count": 1,
   "metadata": {},
   "outputs": [
    {
     "data": {
      "text/plain": [
       "date      datetime64[ns]\n",
       "ticker            object\n",
       "open             float64\n",
       "high             float64\n",
       "low              float64\n",
       "close            float64\n",
       "volume             int64\n",
       "dtype: object"
      ]
     },
     "execution_count": 1,
     "metadata": {},
     "output_type": "execute_result"
    }
   ],
   "source": [
    "import pandas as pd\n",
    "\n",
    "df = pd.read_csv('sp500hst.txt', header=None, \n",
    "                 names=[\"date\", \"ticker\", \"open\", \"high\", \"low\", \"close\", \"volume\"])\n",
    "df['date'] = pd.to_datetime(df['date'], format='%Y%m%d')\n",
    "df.dtypes"
   ]
  },
  {
   "cell_type": "markdown",
   "metadata": {},
   "source": [
    "2. Посчитайте количество уникальных цифр, которые используются каждой строке в столбце volume."
   ]
  },
  {
   "cell_type": "code",
   "execution_count": 2,
   "metadata": {},
   "outputs": [
    {
     "data": {
      "text/plain": [
       "(4, 3)"
      ]
     },
     "execution_count": 2,
     "metadata": {},
     "output_type": "execute_result"
    }
   ],
   "source": [
    "def n_digits(volume):\n",
    "    return len(\n",
    "        set(\n",
    "            str(volume)\n",
    "        )\n",
    "    )\n",
    "n_digits(1234), n_digits(1232)"
   ]
  },
  {
   "cell_type": "code",
   "execution_count": 3,
   "metadata": {},
   "outputs": [
    {
     "data": {
      "text/plain": [
       "0    5\n",
       "1    3\n",
       "Name: volume, dtype: int64"
      ]
     },
     "execution_count": 3,
     "metadata": {},
     "output_type": "execute_result"
    }
   ],
   "source": [
    "df[\"volume\"].map(n_digits).head(2)"
   ]
  },
  {
   "cell_type": "markdown",
   "metadata": {},
   "source": [
    "3. Для каждой строки рассчитайте разность между значениями high и low, если индекс столбца нечетный, и разность между close и high в противном случае."
   ]
  },
  {
   "cell_type": "code",
   "execution_count": 4,
   "metadata": {},
   "outputs": [
    {
     "data": {
      "text/plain": [
       "0        -0.0500\n",
       "1         0.4100\n",
       "2        -0.1600\n",
       "3         0.4975\n",
       "4         0.0400\n",
       "           ...  \n",
       "122569    0.5200\n",
       "122570   -0.1300\n",
       "122571    0.7100\n",
       "122572   -1.4100\n",
       "122573    1.0700\n",
       "Length: 122574, dtype: float64"
      ]
     },
     "execution_count": 4,
     "metadata": {},
     "output_type": "execute_result"
    }
   ],
   "source": [
    "df.head(2)\n",
    "\n",
    "def diff(row):\n",
    "    if row.name % 2:\n",
    "        return row[\"high\"] - row[\"low\"]\n",
    "    else:\n",
    "        return row[\"close\"] - row[\"open\"]\n",
    "\n",
    "df.apply(diff, axis=1)"
   ]
  },
  {
   "cell_type": "code",
   "execution_count": 5,
   "metadata": {},
   "outputs": [
    {
     "data": {
      "text/plain": [
       "array([-0.05,  0.41, -0.16, ...,  0.71, -1.41,  1.07])"
      ]
     },
     "execution_count": 5,
     "metadata": {},
     "output_type": "execute_result"
    }
   ],
   "source": [
    "import numpy as np\n",
    "\n",
    "np.where(\n",
    "   df.index % 2 == 1,\n",
    "   df[\"high\"] - df[\"low\"],\n",
    "   df[\"close\"] - df[\"open\"] \n",
    ")"
   ]
  },
  {
   "cell_type": "markdown",
   "metadata": {},
   "source": [
    "4. Рассчитайте суммарный объем торгов для для одинаковых значений тикеров."
   ]
  },
  {
   "cell_type": "code",
   "execution_count": 6,
   "metadata": {},
   "outputs": [
    {
     "data": {
      "text/html": [
       "<div>\n",
       "<style scoped>\n",
       "    .dataframe tbody tr th:only-of-type {\n",
       "        vertical-align: middle;\n",
       "    }\n",
       "\n",
       "    .dataframe tbody tr th {\n",
       "        vertical-align: top;\n",
       "    }\n",
       "\n",
       "    .dataframe thead th {\n",
       "        text-align: right;\n",
       "    }\n",
       "</style>\n",
       "<table border=\"1\" class=\"dataframe\">\n",
       "  <thead>\n",
       "    <tr style=\"text-align: right;\">\n",
       "      <th></th>\n",
       "      <th>open</th>\n",
       "      <th>volume</th>\n",
       "    </tr>\n",
       "    <tr>\n",
       "      <th>ticker</th>\n",
       "      <th></th>\n",
       "      <th></th>\n",
       "    </tr>\n",
       "  </thead>\n",
       "  <tbody>\n",
       "    <tr>\n",
       "      <th>A</th>\n",
       "      <td>37.25</td>\n",
       "      <td>118162</td>\n",
       "    </tr>\n",
       "    <tr>\n",
       "      <th>AA</th>\n",
       "      <td>17.49</td>\n",
       "      <td>1558986</td>\n",
       "    </tr>\n",
       "    <tr>\n",
       "      <th>AAPL</th>\n",
       "      <td>277.75</td>\n",
       "      <td>666824</td>\n",
       "    </tr>\n",
       "    <tr>\n",
       "      <th>ABC</th>\n",
       "      <td>33.19</td>\n",
       "      <td>192412</td>\n",
       "    </tr>\n",
       "    <tr>\n",
       "      <th>ABT</th>\n",
       "      <td>56.23</td>\n",
       "      <td>185338</td>\n",
       "    </tr>\n",
       "    <tr>\n",
       "      <th>...</th>\n",
       "      <td>...</td>\n",
       "      <td>...</td>\n",
       "    </tr>\n",
       "    <tr>\n",
       "      <th>XTO</th>\n",
       "      <td>48.51</td>\n",
       "      <td>1250384</td>\n",
       "    </tr>\n",
       "    <tr>\n",
       "      <th>YHOO</th>\n",
       "      <td>18.67</td>\n",
       "      <td>864125</td>\n",
       "    </tr>\n",
       "    <tr>\n",
       "      <th>YUM</th>\n",
       "      <td>43.83</td>\n",
       "      <td>156401</td>\n",
       "    </tr>\n",
       "    <tr>\n",
       "      <th>ZION</th>\n",
       "      <td>30.19</td>\n",
       "      <td>263348</td>\n",
       "    </tr>\n",
       "    <tr>\n",
       "      <th>ZMH</th>\n",
       "      <td>63.70</td>\n",
       "      <td>90284</td>\n",
       "    </tr>\n",
       "  </tbody>\n",
       "</table>\n",
       "<p>524 rows × 2 columns</p>\n",
       "</div>"
      ],
      "text/plain": [
       "          open   volume\n",
       "ticker                 \n",
       "A        37.25   118162\n",
       "AA       17.49  1558986\n",
       "AAPL    277.75   666824\n",
       "ABC      33.19   192412\n",
       "ABT      56.23   185338\n",
       "...        ...      ...\n",
       "XTO      48.51  1250384\n",
       "YHOO     18.67   864125\n",
       "YUM      43.83   156401\n",
       "ZION     30.19   263348\n",
       "ZMH      63.70    90284\n",
       "\n",
       "[524 rows x 2 columns]"
      ]
     },
     "execution_count": 6,
     "metadata": {},
     "output_type": "execute_result"
    }
   ],
   "source": [
    "df.groupby('ticker')[[\"open\", \"volume\"]].max()"
   ]
  },
  {
   "cell_type": "code",
   "execution_count": 7,
   "metadata": {},
   "outputs": [
    {
     "data": {
      "text/html": [
       "<div>\n",
       "<style scoped>\n",
       "    .dataframe tbody tr th:only-of-type {\n",
       "        vertical-align: middle;\n",
       "    }\n",
       "\n",
       "    .dataframe tbody tr th {\n",
       "        vertical-align: top;\n",
       "    }\n",
       "\n",
       "    .dataframe thead th {\n",
       "        text-align: right;\n",
       "    }\n",
       "</style>\n",
       "<table border=\"1\" class=\"dataframe\">\n",
       "  <thead>\n",
       "    <tr style=\"text-align: right;\">\n",
       "      <th></th>\n",
       "      <th>date</th>\n",
       "      <th>ticker</th>\n",
       "      <th>open</th>\n",
       "      <th>high</th>\n",
       "      <th>low</th>\n",
       "      <th>close</th>\n",
       "      <th>volume</th>\n",
       "    </tr>\n",
       "  </thead>\n",
       "  <tbody>\n",
       "    <tr>\n",
       "      <th>490</th>\n",
       "      <td>2009-08-21</td>\n",
       "      <td>AAPL</td>\n",
       "      <td>167.81</td>\n",
       "      <td>169.37</td>\n",
       "      <td>166.80</td>\n",
       "      <td>169.22</td>\n",
       "      <td>148597</td>\n",
       "    </tr>\n",
       "    <tr>\n",
       "      <th>491</th>\n",
       "      <td>2009-08-24</td>\n",
       "      <td>AAPL</td>\n",
       "      <td>170.00</td>\n",
       "      <td>170.71</td>\n",
       "      <td>168.27</td>\n",
       "      <td>169.06</td>\n",
       "      <td>145331</td>\n",
       "    </tr>\n",
       "    <tr>\n",
       "      <th>492</th>\n",
       "      <td>2009-08-25</td>\n",
       "      <td>AAPL</td>\n",
       "      <td>169.43</td>\n",
       "      <td>170.94</td>\n",
       "      <td>169.13</td>\n",
       "      <td>169.40</td>\n",
       "      <td>115840</td>\n",
       "    </tr>\n",
       "    <tr>\n",
       "      <th>493</th>\n",
       "      <td>2009-08-26</td>\n",
       "      <td>AAPL</td>\n",
       "      <td>168.94</td>\n",
       "      <td>169.55</td>\n",
       "      <td>166.76</td>\n",
       "      <td>167.41</td>\n",
       "      <td>108570</td>\n",
       "    </tr>\n",
       "    <tr>\n",
       "      <th>494</th>\n",
       "      <td>2009-08-27</td>\n",
       "      <td>AAPL</td>\n",
       "      <td>168.59</td>\n",
       "      <td>169.57</td>\n",
       "      <td>164.83</td>\n",
       "      <td>169.45</td>\n",
       "      <td>160421</td>\n",
       "    </tr>\n",
       "    <tr>\n",
       "      <th>...</th>\n",
       "      <td>...</td>\n",
       "      <td>...</td>\n",
       "      <td>...</td>\n",
       "      <td>...</td>\n",
       "      <td>...</td>\n",
       "      <td>...</td>\n",
       "      <td>...</td>\n",
       "    </tr>\n",
       "    <tr>\n",
       "      <th>118668</th>\n",
       "      <td>2010-08-13</td>\n",
       "      <td>WPO</td>\n",
       "      <td>347.95</td>\n",
       "      <td>351.71</td>\n",
       "      <td>337.85</td>\n",
       "      <td>343.48</td>\n",
       "      <td>1681</td>\n",
       "    </tr>\n",
       "    <tr>\n",
       "      <th>118669</th>\n",
       "      <td>2010-08-16</td>\n",
       "      <td>WPO</td>\n",
       "      <td>304.00</td>\n",
       "      <td>321.14</td>\n",
       "      <td>295.56</td>\n",
       "      <td>315.65</td>\n",
       "      <td>8774</td>\n",
       "    </tr>\n",
       "    <tr>\n",
       "      <th>118670</th>\n",
       "      <td>2010-08-17</td>\n",
       "      <td>WPO</td>\n",
       "      <td>324.59</td>\n",
       "      <td>336.58</td>\n",
       "      <td>319.74</td>\n",
       "      <td>327.63</td>\n",
       "      <td>3035</td>\n",
       "    </tr>\n",
       "    <tr>\n",
       "      <th>118671</th>\n",
       "      <td>2010-08-19</td>\n",
       "      <td>WPO</td>\n",
       "      <td>337.94</td>\n",
       "      <td>348.40</td>\n",
       "      <td>333.46</td>\n",
       "      <td>345.61</td>\n",
       "      <td>2197</td>\n",
       "    </tr>\n",
       "    <tr>\n",
       "      <th>118672</th>\n",
       "      <td>2010-08-20</td>\n",
       "      <td>WPO</td>\n",
       "      <td>344.20</td>\n",
       "      <td>349.43</td>\n",
       "      <td>339.29</td>\n",
       "      <td>347.68</td>\n",
       "      <td>1828</td>\n",
       "    </tr>\n",
       "  </tbody>\n",
       "</table>\n",
       "<p>6828 rows × 7 columns</p>\n",
       "</div>"
      ],
      "text/plain": [
       "             date ticker    open    high     low   close  volume\n",
       "490    2009-08-21   AAPL  167.81  169.37  166.80  169.22  148597\n",
       "491    2009-08-24   AAPL  170.00  170.71  168.27  169.06  145331\n",
       "492    2009-08-25   AAPL  169.43  170.94  169.13  169.40  115840\n",
       "493    2009-08-26   AAPL  168.94  169.55  166.76  167.41  108570\n",
       "494    2009-08-27   AAPL  168.59  169.57  164.83  169.45  160421\n",
       "...           ...    ...     ...     ...     ...     ...     ...\n",
       "118668 2010-08-13    WPO  347.95  351.71  337.85  343.48    1681\n",
       "118669 2010-08-16    WPO  304.00  321.14  295.56  315.65    8774\n",
       "118670 2010-08-17    WPO  324.59  336.58  319.74  327.63    3035\n",
       "118671 2010-08-19    WPO  337.94  348.40  333.46  345.61    2197\n",
       "118672 2010-08-20    WPO  344.20  349.43  339.29  347.68    1828\n",
       "\n",
       "[6828 rows x 7 columns]"
      ]
     },
     "execution_count": 7,
     "metadata": {},
     "output_type": "execute_result"
    }
   ],
   "source": [
    "df.groupby('ticker').filter(lambda group: group[\"open\"].max() >= 100)"
   ]
  },
  {
   "cell_type": "markdown",
   "metadata": {},
   "source": [
    "5. Загрузите данные из файла sp500hst.txt и обозначьте столбцы в соответствии с содержимым: \"date\", \"ticker\", \"open\", \"high\", \"low\", \"close\", \"volume\". Добавьте столбец с расшифровкой названия тикера, используя данные из файла `sp_data2.csv` . В случае нехватки данных об именах тикеров корректно обработать их."
   ]
  },
  {
   "cell_type": "code",
   "execution_count": 8,
   "metadata": {},
   "outputs": [],
   "source": [
    "df2 = pd.read_csv('sp_data2.csv', header=None, \n",
    "                  names=[\"ticker\", \"name\", \"annual_income\"],\n",
    "                  sep=\";\")"
   ]
  },
  {
   "cell_type": "code",
   "execution_count": 9,
   "metadata": {},
   "outputs": [
    {
     "data": {
      "text/html": [
       "<div>\n",
       "<style scoped>\n",
       "    .dataframe tbody tr th:only-of-type {\n",
       "        vertical-align: middle;\n",
       "    }\n",
       "\n",
       "    .dataframe tbody tr th {\n",
       "        vertical-align: top;\n",
       "    }\n",
       "\n",
       "    .dataframe thead th {\n",
       "        text-align: right;\n",
       "    }\n",
       "</style>\n",
       "<table border=\"1\" class=\"dataframe\">\n",
       "  <thead>\n",
       "    <tr style=\"text-align: right;\">\n",
       "      <th></th>\n",
       "      <th>date</th>\n",
       "      <th>ticker</th>\n",
       "      <th>open</th>\n",
       "      <th>high</th>\n",
       "      <th>low</th>\n",
       "      <th>close</th>\n",
       "      <th>volume</th>\n",
       "      <th>name</th>\n",
       "      <th>annual_income</th>\n",
       "    </tr>\n",
       "  </thead>\n",
       "  <tbody>\n",
       "    <tr>\n",
       "      <th>0</th>\n",
       "      <td>2009-08-21</td>\n",
       "      <td>A</td>\n",
       "      <td>25.60</td>\n",
       "      <td>25.6100</td>\n",
       "      <td>25.220</td>\n",
       "      <td>25.55</td>\n",
       "      <td>34758</td>\n",
       "      <td>Agilent Technologies</td>\n",
       "      <td>0.1%</td>\n",
       "    </tr>\n",
       "    <tr>\n",
       "      <th>1</th>\n",
       "      <td>2009-08-24</td>\n",
       "      <td>A</td>\n",
       "      <td>25.64</td>\n",
       "      <td>25.7400</td>\n",
       "      <td>25.330</td>\n",
       "      <td>25.50</td>\n",
       "      <td>22247</td>\n",
       "      <td>Agilent Technologies</td>\n",
       "      <td>0.1%</td>\n",
       "    </tr>\n",
       "    <tr>\n",
       "      <th>2</th>\n",
       "      <td>2009-08-25</td>\n",
       "      <td>A</td>\n",
       "      <td>25.50</td>\n",
       "      <td>25.7000</td>\n",
       "      <td>25.225</td>\n",
       "      <td>25.34</td>\n",
       "      <td>30891</td>\n",
       "      <td>Agilent Technologies</td>\n",
       "      <td>0.1%</td>\n",
       "    </tr>\n",
       "    <tr>\n",
       "      <th>3</th>\n",
       "      <td>2009-08-26</td>\n",
       "      <td>A</td>\n",
       "      <td>25.32</td>\n",
       "      <td>25.6425</td>\n",
       "      <td>25.145</td>\n",
       "      <td>25.48</td>\n",
       "      <td>33334</td>\n",
       "      <td>Agilent Technologies</td>\n",
       "      <td>0.1%</td>\n",
       "    </tr>\n",
       "    <tr>\n",
       "      <th>4</th>\n",
       "      <td>2009-08-27</td>\n",
       "      <td>A</td>\n",
       "      <td>25.50</td>\n",
       "      <td>25.5700</td>\n",
       "      <td>25.230</td>\n",
       "      <td>25.54</td>\n",
       "      <td>70176</td>\n",
       "      <td>Agilent Technologies</td>\n",
       "      <td>0.1%</td>\n",
       "    </tr>\n",
       "    <tr>\n",
       "      <th>...</th>\n",
       "      <td>...</td>\n",
       "      <td>...</td>\n",
       "      <td>...</td>\n",
       "      <td>...</td>\n",
       "      <td>...</td>\n",
       "      <td>...</td>\n",
       "      <td>...</td>\n",
       "      <td>...</td>\n",
       "      <td>...</td>\n",
       "    </tr>\n",
       "    <tr>\n",
       "      <th>82167</th>\n",
       "      <td>2010-08-13</td>\n",
       "      <td>ZION</td>\n",
       "      <td>20.17</td>\n",
       "      <td>20.4300</td>\n",
       "      <td>19.840</td>\n",
       "      <td>19.89</td>\n",
       "      <td>25193</td>\n",
       "      <td>Zions Bancorp</td>\n",
       "      <td>0.0%</td>\n",
       "    </tr>\n",
       "    <tr>\n",
       "      <th>82168</th>\n",
       "      <td>2010-08-16</td>\n",
       "      <td>ZION</td>\n",
       "      <td>19.81</td>\n",
       "      <td>19.9600</td>\n",
       "      <td>19.600</td>\n",
       "      <td>19.95</td>\n",
       "      <td>25914</td>\n",
       "      <td>Zions Bancorp</td>\n",
       "      <td>0.0%</td>\n",
       "    </tr>\n",
       "    <tr>\n",
       "      <th>82169</th>\n",
       "      <td>2010-08-17</td>\n",
       "      <td>ZION</td>\n",
       "      <td>20.07</td>\n",
       "      <td>20.4700</td>\n",
       "      <td>19.830</td>\n",
       "      <td>20.31</td>\n",
       "      <td>31717</td>\n",
       "      <td>Zions Bancorp</td>\n",
       "      <td>0.0%</td>\n",
       "    </tr>\n",
       "    <tr>\n",
       "      <th>82170</th>\n",
       "      <td>2010-08-19</td>\n",
       "      <td>ZION</td>\n",
       "      <td>19.83</td>\n",
       "      <td>20.0000</td>\n",
       "      <td>19.130</td>\n",
       "      <td>19.35</td>\n",
       "      <td>45935</td>\n",
       "      <td>Zions Bancorp</td>\n",
       "      <td>0.0%</td>\n",
       "    </tr>\n",
       "    <tr>\n",
       "      <th>82171</th>\n",
       "      <td>2010-08-20</td>\n",
       "      <td>ZION</td>\n",
       "      <td>19.15</td>\n",
       "      <td>19.2700</td>\n",
       "      <td>18.810</td>\n",
       "      <td>19.14</td>\n",
       "      <td>37225</td>\n",
       "      <td>Zions Bancorp</td>\n",
       "      <td>0.0%</td>\n",
       "    </tr>\n",
       "  </tbody>\n",
       "</table>\n",
       "<p>82172 rows × 9 columns</p>\n",
       "</div>"
      ],
      "text/plain": [
       "            date ticker   open     high     low  close  volume  \\\n",
       "0     2009-08-21      A  25.60  25.6100  25.220  25.55   34758   \n",
       "1     2009-08-24      A  25.64  25.7400  25.330  25.50   22247   \n",
       "2     2009-08-25      A  25.50  25.7000  25.225  25.34   30891   \n",
       "3     2009-08-26      A  25.32  25.6425  25.145  25.48   33334   \n",
       "4     2009-08-27      A  25.50  25.5700  25.230  25.54   70176   \n",
       "...          ...    ...    ...      ...     ...    ...     ...   \n",
       "82167 2010-08-13   ZION  20.17  20.4300  19.840  19.89   25193   \n",
       "82168 2010-08-16   ZION  19.81  19.9600  19.600  19.95   25914   \n",
       "82169 2010-08-17   ZION  20.07  20.4700  19.830  20.31   31717   \n",
       "82170 2010-08-19   ZION  19.83  20.0000  19.130  19.35   45935   \n",
       "82171 2010-08-20   ZION  19.15  19.2700  18.810  19.14   37225   \n",
       "\n",
       "                       name annual_income  \n",
       "0      Agilent Technologies          0.1%  \n",
       "1      Agilent Technologies          0.1%  \n",
       "2      Agilent Technologies          0.1%  \n",
       "3      Agilent Technologies          0.1%  \n",
       "4      Agilent Technologies          0.1%  \n",
       "...                     ...           ...  \n",
       "82167         Zions Bancorp          0.0%  \n",
       "82168         Zions Bancorp          0.0%  \n",
       "82169         Zions Bancorp          0.0%  \n",
       "82170         Zions Bancorp          0.0%  \n",
       "82171         Zions Bancorp          0.0%  \n",
       "\n",
       "[82172 rows x 9 columns]"
      ]
     },
     "execution_count": 9,
     "metadata": {},
     "output_type": "execute_result"
    }
   ],
   "source": [
    "df.merge(df2, how=\"inner\", left_on=\"ticker\", right_on=\"ticker\")"
   ]
  },
  {
   "cell_type": "markdown",
   "metadata": {},
   "source": [
    "## Лабораторная работа №2.2"
   ]
  },
  {
   "cell_type": "markdown",
   "metadata": {},
   "source": [
    "__Данная работа является продолжением ЛР №2. Для начала работы загрузите таблицы (см. задание 1.1)__"
   ]
  },
  {
   "cell_type": "code",
   "execution_count": 10,
   "metadata": {},
   "outputs": [],
   "source": [
    "recipes = pd.read_csv('recipes_sample.csv')\n",
    "reviews = pd.read_csv('reviews_sample.csv', index_col = 0)"
   ]
  },
  {
   "cell_type": "markdown",
   "metadata": {},
   "source": [
    "### Применение функций к pd.Series и pd.DataFrame"
   ]
  },
  {
   "cell_type": "markdown",
   "metadata": {},
   "source": [
    "4.1 Напишите функцию, которая переводит минуты в формат \"XhYm\". Примените эту функцию к столбцу `minutes` таблицы `recipes` (без перезаписи исходного столбца) при помощи метода `map`."
   ]
  },
  {
   "cell_type": "code",
   "execution_count": 11,
   "metadata": {},
   "outputs": [],
   "source": [
    "def m_to_hm(m: int) -> str:\n",
    "    return f'{m//60}h{m%60}m' \n",
    "\n",
    "assert m_to_hm(90) == \"1h30m\"\n",
    "assert m_to_hm(10) == \"0h10m\""
   ]
  },
  {
   "cell_type": "code",
   "execution_count": 12,
   "metadata": {},
   "outputs": [
    {
     "data": {
      "text/plain": [
       "0        1h30m\n",
       "1        0h10m\n",
       "2        0h30m\n",
       "3        0h45m\n",
       "4        0h25m\n",
       "         ...  \n",
       "29995    1h20m\n",
       "29996     4h0m\n",
       "29997    1h15m\n",
       "29998     1h0m\n",
       "29999    0h29m\n",
       "Name: minutes, Length: 30000, dtype: object"
      ]
     },
     "execution_count": 12,
     "metadata": {},
     "output_type": "execute_result"
    }
   ],
   "source": [
    "recipes['minutes'].map(m_to_hm)"
   ]
  },
  {
   "cell_type": "markdown",
   "metadata": {},
   "source": [
    "4.2 На основе таблицы `recipes` создайте таблицу, которая содержит только текстовые столбцы (используйте метод `select_dtypes`).  Примените к каждому элементу этой таблицы строковый метод `str.capitalize` при помощи метода `applymap`, не удаляя пропуски."
   ]
  },
  {
   "cell_type": "code",
   "execution_count": 13,
   "metadata": {},
   "outputs": [],
   "source": [
    "recipes['submitted'] = pd.to_datetime(recipes['submitted'], format = '%Y-%m-%d')"
   ]
  },
  {
   "cell_type": "code",
   "execution_count": 14,
   "metadata": {},
   "outputs": [
    {
     "data": {
      "text/html": [
       "<div>\n",
       "<style scoped>\n",
       "    .dataframe tbody tr th:only-of-type {\n",
       "        vertical-align: middle;\n",
       "    }\n",
       "\n",
       "    .dataframe tbody tr th {\n",
       "        vertical-align: top;\n",
       "    }\n",
       "\n",
       "    .dataframe thead th {\n",
       "        text-align: right;\n",
       "    }\n",
       "</style>\n",
       "<table border=\"1\" class=\"dataframe\">\n",
       "  <thead>\n",
       "    <tr style=\"text-align: right;\">\n",
       "      <th></th>\n",
       "      <th>name</th>\n",
       "      <th>description</th>\n",
       "    </tr>\n",
       "  </thead>\n",
       "  <tbody>\n",
       "    <tr>\n",
       "      <th>0</th>\n",
       "      <td>george s at the cove  black bean soup</td>\n",
       "      <td>an original recipe created by chef scott meska...</td>\n",
       "    </tr>\n",
       "    <tr>\n",
       "      <th>1</th>\n",
       "      <td>healthy for them  yogurt popsicles</td>\n",
       "      <td>my children and their friends ask for my homem...</td>\n",
       "    </tr>\n",
       "    <tr>\n",
       "      <th>2</th>\n",
       "      <td>i can t believe it s spinach</td>\n",
       "      <td>these were so go, it surprised even me.</td>\n",
       "    </tr>\n",
       "    <tr>\n",
       "      <th>3</th>\n",
       "      <td>italian  gut busters</td>\n",
       "      <td>my sister-in-law made these for us at a family...</td>\n",
       "    </tr>\n",
       "    <tr>\n",
       "      <th>4</th>\n",
       "      <td>love is in the air  beef fondue   sauces</td>\n",
       "      <td>i think a fondue is a very romantic casual din...</td>\n",
       "    </tr>\n",
       "    <tr>\n",
       "      <th>...</th>\n",
       "      <td>...</td>\n",
       "      <td>...</td>\n",
       "    </tr>\n",
       "    <tr>\n",
       "      <th>29995</th>\n",
       "      <td>zurie s holey rustic olive and cheddar bread</td>\n",
       "      <td>this is based on a french recipe but i changed...</td>\n",
       "    </tr>\n",
       "    <tr>\n",
       "      <th>29996</th>\n",
       "      <td>zwetschgenkuchen  bavarian plum cake</td>\n",
       "      <td>this is a traditional fresh plum cake, thought...</td>\n",
       "    </tr>\n",
       "    <tr>\n",
       "      <th>29997</th>\n",
       "      <td>zwiebelkuchen   southwest german onion cake</td>\n",
       "      <td>this is a traditional late summer early fall s...</td>\n",
       "    </tr>\n",
       "    <tr>\n",
       "      <th>29998</th>\n",
       "      <td>zydeco soup</td>\n",
       "      <td>this is a delicious soup that i originally fou...</td>\n",
       "    </tr>\n",
       "    <tr>\n",
       "      <th>29999</th>\n",
       "      <td>cookies by design   cookies on a stick</td>\n",
       "      <td>i've heard of the 'cookies by design' company,...</td>\n",
       "    </tr>\n",
       "  </tbody>\n",
       "</table>\n",
       "<p>30000 rows × 2 columns</p>\n",
       "</div>"
      ],
      "text/plain": [
       "                                               name  \\\n",
       "0             george s at the cove  black bean soup   \n",
       "1                healthy for them  yogurt popsicles   \n",
       "2                      i can t believe it s spinach   \n",
       "3                              italian  gut busters   \n",
       "4          love is in the air  beef fondue   sauces   \n",
       "...                                             ...   \n",
       "29995  zurie s holey rustic olive and cheddar bread   \n",
       "29996          zwetschgenkuchen  bavarian plum cake   \n",
       "29997   zwiebelkuchen   southwest german onion cake   \n",
       "29998                                   zydeco soup   \n",
       "29999        cookies by design   cookies on a stick   \n",
       "\n",
       "                                             description  \n",
       "0      an original recipe created by chef scott meska...  \n",
       "1      my children and their friends ask for my homem...  \n",
       "2                these were so go, it surprised even me.  \n",
       "3      my sister-in-law made these for us at a family...  \n",
       "4      i think a fondue is a very romantic casual din...  \n",
       "...                                                  ...  \n",
       "29995  this is based on a french recipe but i changed...  \n",
       "29996  this is a traditional fresh plum cake, thought...  \n",
       "29997  this is a traditional late summer early fall s...  \n",
       "29998  this is a delicious soup that i originally fou...  \n",
       "29999  i've heard of the 'cookies by design' company,...  \n",
       "\n",
       "[30000 rows x 2 columns]"
      ]
     },
     "execution_count": 14,
     "metadata": {},
     "output_type": "execute_result"
    }
   ],
   "source": [
    "recipes_object = recipes.select_dtypes(include = 'object')\n",
    "recipes_object"
   ]
  },
  {
   "cell_type": "code",
   "execution_count": 15,
   "metadata": {},
   "outputs": [
    {
     "data": {
      "text/html": [
       "<div>\n",
       "<style scoped>\n",
       "    .dataframe tbody tr th:only-of-type {\n",
       "        vertical-align: middle;\n",
       "    }\n",
       "\n",
       "    .dataframe tbody tr th {\n",
       "        vertical-align: top;\n",
       "    }\n",
       "\n",
       "    .dataframe thead th {\n",
       "        text-align: right;\n",
       "    }\n",
       "</style>\n",
       "<table border=\"1\" class=\"dataframe\">\n",
       "  <thead>\n",
       "    <tr style=\"text-align: right;\">\n",
       "      <th></th>\n",
       "      <th>name</th>\n",
       "      <th>description</th>\n",
       "    </tr>\n",
       "  </thead>\n",
       "  <tbody>\n",
       "    <tr>\n",
       "      <th>0</th>\n",
       "      <td>George s at the cove  black bean soup</td>\n",
       "      <td>An original recipe created by chef scott meska...</td>\n",
       "    </tr>\n",
       "    <tr>\n",
       "      <th>1</th>\n",
       "      <td>Healthy for them  yogurt popsicles</td>\n",
       "      <td>My children and their friends ask for my homem...</td>\n",
       "    </tr>\n",
       "    <tr>\n",
       "      <th>2</th>\n",
       "      <td>I can t believe it s spinach</td>\n",
       "      <td>These were so go, it surprised even me.</td>\n",
       "    </tr>\n",
       "    <tr>\n",
       "      <th>3</th>\n",
       "      <td>Italian  gut busters</td>\n",
       "      <td>My sister-in-law made these for us at a family...</td>\n",
       "    </tr>\n",
       "    <tr>\n",
       "      <th>4</th>\n",
       "      <td>Love is in the air  beef fondue   sauces</td>\n",
       "      <td>I think a fondue is a very romantic casual din...</td>\n",
       "    </tr>\n",
       "    <tr>\n",
       "      <th>...</th>\n",
       "      <td>...</td>\n",
       "      <td>...</td>\n",
       "    </tr>\n",
       "    <tr>\n",
       "      <th>29995</th>\n",
       "      <td>Zurie s holey rustic olive and cheddar bread</td>\n",
       "      <td>This is based on a french recipe but i changed...</td>\n",
       "    </tr>\n",
       "    <tr>\n",
       "      <th>29996</th>\n",
       "      <td>Zwetschgenkuchen  bavarian plum cake</td>\n",
       "      <td>This is a traditional fresh plum cake, thought...</td>\n",
       "    </tr>\n",
       "    <tr>\n",
       "      <th>29997</th>\n",
       "      <td>Zwiebelkuchen   southwest german onion cake</td>\n",
       "      <td>This is a traditional late summer early fall s...</td>\n",
       "    </tr>\n",
       "    <tr>\n",
       "      <th>29998</th>\n",
       "      <td>Zydeco soup</td>\n",
       "      <td>This is a delicious soup that i originally fou...</td>\n",
       "    </tr>\n",
       "    <tr>\n",
       "      <th>29999</th>\n",
       "      <td>Cookies by design   cookies on a stick</td>\n",
       "      <td>I've heard of the 'cookies by design' company,...</td>\n",
       "    </tr>\n",
       "  </tbody>\n",
       "</table>\n",
       "<p>30000 rows × 2 columns</p>\n",
       "</div>"
      ],
      "text/plain": [
       "                                               name  \\\n",
       "0             George s at the cove  black bean soup   \n",
       "1                Healthy for them  yogurt popsicles   \n",
       "2                      I can t believe it s spinach   \n",
       "3                              Italian  gut busters   \n",
       "4          Love is in the air  beef fondue   sauces   \n",
       "...                                             ...   \n",
       "29995  Zurie s holey rustic olive and cheddar bread   \n",
       "29996          Zwetschgenkuchen  bavarian plum cake   \n",
       "29997   Zwiebelkuchen   southwest german onion cake   \n",
       "29998                                   Zydeco soup   \n",
       "29999        Cookies by design   cookies on a stick   \n",
       "\n",
       "                                             description  \n",
       "0      An original recipe created by chef scott meska...  \n",
       "1      My children and their friends ask for my homem...  \n",
       "2                These were so go, it surprised even me.  \n",
       "3      My sister-in-law made these for us at a family...  \n",
       "4      I think a fondue is a very romantic casual din...  \n",
       "...                                                  ...  \n",
       "29995  This is based on a french recipe but i changed...  \n",
       "29996  This is a traditional fresh plum cake, thought...  \n",
       "29997  This is a traditional late summer early fall s...  \n",
       "29998  This is a delicious soup that i originally fou...  \n",
       "29999  I've heard of the 'cookies by design' company,...  \n",
       "\n",
       "[30000 rows x 2 columns]"
      ]
     },
     "execution_count": 15,
     "metadata": {},
     "output_type": "execute_result"
    }
   ],
   "source": [
    "recipes_object.applymap(str.capitalize, na_action = 'ignore')"
   ]
  },
  {
   "cell_type": "markdown",
   "metadata": {},
   "source": [
    "4.3 Напишите функцию, которая принимает на вход серию `pd.Series` и для серий, содержащих текстовые данные, возвращает максимальную длину строк в ней, а для числовых серий возвращает минимальный элемент в этой серии. Примените данную функцию к каждому столбцу таблицы `recipes` при помощи метода `apply`."
   ]
  },
  {
   "cell_type": "code",
   "execution_count": 16,
   "metadata": {},
   "outputs": [],
   "source": [
    "def get_stats(x: pd.Series) -> int:\n",
    "    if x.dtype == 'O':\n",
    "        return x.str.len().max()\n",
    "    elif x.dtype == 'int64' or x.dtype == 'datetime64[ns]' or x.dtype == 'float64':\n",
    "        return x.min()   \n",
    "\n",
    "assert get_stats(pd.Series(['a', 'bbbb', 'ccc'])) == 4\n",
    "assert get_stats(pd.Series([1, 3, 2])) == 1"
   ]
  },
  {
   "cell_type": "code",
   "execution_count": 17,
   "metadata": {},
   "outputs": [
    {
     "data": {
      "text/plain": [
       "name                               83\n",
       "id                                 48\n",
       "minutes                             0\n",
       "contributor_id                   1530\n",
       "submitted         1999-08-06 00:00:00\n",
       "n_steps                           1.0\n",
       "description                    6321.0\n",
       "n_ingredients                     1.0\n",
       "dtype: object"
      ]
     },
     "execution_count": 17,
     "metadata": {},
     "output_type": "execute_result"
    }
   ],
   "source": [
    "recipes.apply(get_stats)"
   ]
  },
  {
   "cell_type": "markdown",
   "metadata": {},
   "source": [
    "### Группировки таблиц `pd.DataFrame`"
   ]
  },
  {
   "cell_type": "markdown",
   "metadata": {},
   "source": [
    "5.1 Посчитайте количество рецептов, представленных каждым из участников (`contributor_id`). Какой участник добавил максимальное кол-во рецептов?"
   ]
  },
  {
   "cell_type": "code",
   "execution_count": 18,
   "metadata": {},
   "outputs": [
    {
     "data": {
      "text/plain": [
       "contributor_id\n",
       "1530            5\n",
       "1533          186\n",
       "1534           50\n",
       "1535           40\n",
       "1538            8\n",
       "             ... \n",
       "2001968497      2\n",
       "2002059754      1\n",
       "2002234079      1\n",
       "2002234259      1\n",
       "2002247884      1\n",
       "Name: name, Length: 8404, dtype: int64"
      ]
     },
     "execution_count": 18,
     "metadata": {},
     "output_type": "execute_result"
    }
   ],
   "source": [
    "recipes_number = recipes.groupby('contributor_id')['name'].count()\n",
    "recipes_number"
   ]
  },
  {
   "cell_type": "code",
   "execution_count": 36,
   "metadata": {},
   "outputs": [
    {
     "data": {
      "text/plain": [
       "Int64Index([89831], dtype='int64', name='contributor_id')"
      ]
     },
     "execution_count": 36,
     "metadata": {},
     "output_type": "execute_result"
    }
   ],
   "source": [
    "recipes_number[recipes_number == recipes_number.max()].index"
   ]
  },
  {
   "cell_type": "markdown",
   "metadata": {},
   "source": [
    "5.2 Посчитайте средний рейтинг к каждому из рецептов. Для скольких рецептов отсутствуют отзывы? Обратите внимание, что отзыв с нулевым рейтингом или не заполненным текстовым описанием не считается отсутствующим."
   ]
  },
  {
   "cell_type": "code",
   "execution_count": 20,
   "metadata": {},
   "outputs": [
    {
     "data": {
      "text/plain": [
       "recipe_id\n",
       "48        1.000000\n",
       "55        4.750000\n",
       "66        4.944444\n",
       "91        4.750000\n",
       "94        5.000000\n",
       "            ...   \n",
       "536547    5.000000\n",
       "536610    0.000000\n",
       "536728    4.000000\n",
       "536729    4.750000\n",
       "536747    0.000000\n",
       "Name: rating, Length: 28100, dtype: float64"
      ]
     },
     "execution_count": 20,
     "metadata": {},
     "output_type": "execute_result"
    }
   ],
   "source": [
    "reviews.groupby('recipe_id')['rating'].mean(numeric_only = False)"
   ]
  },
  {
   "cell_type": "code",
   "execution_count": 21,
   "metadata": {},
   "outputs": [
    {
     "data": {
      "text/plain": [
       "1900"
      ]
     },
     "execution_count": 21,
     "metadata": {},
     "output_type": "execute_result"
    }
   ],
   "source": [
    "recipes.shape[0] - reviews.groupby('recipe_id')['rating'].count().shape[0]"
   ]
  },
  {
   "cell_type": "markdown",
   "metadata": {},
   "source": [
    "5.3 Посчитайте количество рецептов с разбивкой по годам создания."
   ]
  },
  {
   "cell_type": "code",
   "execution_count": 22,
   "metadata": {},
   "outputs": [
    {
     "data": {
      "text/plain": [
       "year\n",
       "1999     275\n",
       "2000     104\n",
       "2001     589\n",
       "2002    2644\n",
       "2003    2334\n",
       "2004    2153\n",
       "2005    3130\n",
       "2006    3473\n",
       "2007    4429\n",
       "2008    4029\n",
       "2009    2963\n",
       "2010    1538\n",
       "2011     922\n",
       "2012     659\n",
       "2013     490\n",
       "2014     139\n",
       "2015      42\n",
       "2016      24\n",
       "2017      39\n",
       "2018      24\n",
       "Name: name, dtype: int64"
      ]
     },
     "execution_count": 22,
     "metadata": {},
     "output_type": "execute_result"
    }
   ],
   "source": [
    "recipes['submitted'] = pd.to_datetime(recipes['submitted'], format = '%Y-%m-%d')\n",
    "recipes['year'] = recipes['submitted'].dt.year \n",
    "recipes.groupby('year')['name'].count()"
   ]
  },
  {
   "cell_type": "markdown",
   "metadata": {},
   "source": [
    "5.4 Напишите функцию, которая принимает на вход таблицу (аналогичную `recipes` по набору столбцов), и возвращает `True` в том случае, если в столбце `minutes` присутствуют только значения, меньшие либо равные 10. Сгруппируйте таблицу `recipes` по полю `contributor_id` и для каждого участника выясните, справедливо ли, что все его рецепты занимают не более 10 минут."
   ]
  },
  {
   "cell_type": "code",
   "execution_count": 23,
   "metadata": {},
   "outputs": [],
   "source": [
    "import numpy as np"
   ]
  },
  {
   "cell_type": "code",
   "execution_count": 24,
   "metadata": {},
   "outputs": [],
   "source": [
    "def has_only_fast_recipes(x: pd.DataFrame) -> bool:\n",
    "    not_ten_minutes = x['minutes'] > 10\n",
    "    if not_ten_minutes.sum() == 0:\n",
    "        return True\n",
    "    else:\n",
    "        return False\n",
    "    \n",
    "assert not has_only_fast_recipes(\n",
    "    pd.DataFrame(\n",
    "        {\n",
    "            \"name\": {0: \"george s\", 1: \"healthy\"},\n",
    "            \"id\": {0: 44123, 1: 67664},\n",
    "            \"minutes\": {0: 90, 1: 10},\n",
    "            \"contributor_id\": {0: 35193, 1: 91970},\n",
    "            \"submitted\": {0: \"2002-10-25\", 1: \"2003-07-26\"},\n",
    "            \"n_steps\": {0: np.nan, 1: np.nan},\n",
    "            \"description\": {0: \"123\", 1: \"zxc\"},\n",
    "            \"n_ingredients\": {0: 18.0, 1: np.nan},\n",
    "        }\n",
    "    )\n",
    ")\n",
    "assert has_only_fast_recipes(\n",
    "    pd.DataFrame(\n",
    "        {\n",
    "            \"name\": {0: \"george s\", 1: \"healthy\"},\n",
    "            \"id\": {0: 44123, 1: 67664},\n",
    "            \"minutes\": {0: 7, 1: 5},\n",
    "            \"contributor_id\": {0: 35193, 1: 91970},\n",
    "            \"submitted\": {0: \"2002-10-25\", 1: \"2003-07-26\"},\n",
    "            \"n_steps\": {0: np.nan, 1: np.nan},\n",
    "            \"description\": {0: \"123\", 1: \"zxc\"},\n",
    "            \"n_ingredients\": {0: 18.0, 1: np.nan},\n",
    "        }\n",
    "    )\n",
    ")"
   ]
  },
  {
   "cell_type": "code",
   "execution_count": 25,
   "metadata": {},
   "outputs": [
    {
     "data": {
      "text/plain": [
       "contributor_id\n",
       "1530          False\n",
       "1533          False\n",
       "1534          False\n",
       "1535          False\n",
       "1538          False\n",
       "              ...  \n",
       "2001968497    False\n",
       "2002059754    False\n",
       "2002234079    False\n",
       "2002234259    False\n",
       "2002247884    False\n",
       "Length: 8404, dtype: bool"
      ]
     },
     "execution_count": 25,
     "metadata": {},
     "output_type": "execute_result"
    }
   ],
   "source": [
    "recipes.groupby('contributor_id').apply(has_only_fast_recipes)"
   ]
  },
  {
   "cell_type": "markdown",
   "metadata": {},
   "source": [
    "### Объединение таблиц `pd.DataFrame`"
   ]
  },
  {
   "cell_type": "markdown",
   "metadata": {},
   "source": [
    "6.1 При помощи объединения таблиц, создайте `DataFrame`, состоящий из четырех столбцов: `id`, `name`, `user_id`, `rating`. Рецепты, на которые не оставлен ни один отзыв, должны отсутствовать в полученной таблице. Подтвердите правильность работы вашего кода, выбрав рецепт, не имеющий отзывов, и попытавшись найти строку, соответствующую этому рецепту, в полученном `DataFrame`."
   ]
  },
  {
   "cell_type": "code",
   "execution_count": 26,
   "metadata": {},
   "outputs": [
    {
     "data": {
      "text/html": [
       "<div>\n",
       "<style scoped>\n",
       "    .dataframe tbody tr th:only-of-type {\n",
       "        vertical-align: middle;\n",
       "    }\n",
       "\n",
       "    .dataframe tbody tr th {\n",
       "        vertical-align: top;\n",
       "    }\n",
       "\n",
       "    .dataframe thead th {\n",
       "        text-align: right;\n",
       "    }\n",
       "</style>\n",
       "<table border=\"1\" class=\"dataframe\">\n",
       "  <thead>\n",
       "    <tr style=\"text-align: right;\">\n",
       "      <th></th>\n",
       "      <th>name</th>\n",
       "      <th>id</th>\n",
       "      <th>year</th>\n",
       "      <th>user_id</th>\n",
       "      <th>rating</th>\n",
       "    </tr>\n",
       "  </thead>\n",
       "  <tbody>\n",
       "    <tr>\n",
       "      <th>0</th>\n",
       "      <td>george s at the cove  black bean soup</td>\n",
       "      <td>44123</td>\n",
       "      <td>2002</td>\n",
       "      <td>35193</td>\n",
       "      <td>5</td>\n",
       "    </tr>\n",
       "    <tr>\n",
       "      <th>24</th>\n",
       "      <td>allegedly original cobb salad dressing</td>\n",
       "      <td>39189</td>\n",
       "      <td>2002</td>\n",
       "      <td>35193</td>\n",
       "      <td>5</td>\n",
       "    </tr>\n",
       "    <tr>\n",
       "      <th>48</th>\n",
       "      <td>basic cake  gluten free</td>\n",
       "      <td>52100</td>\n",
       "      <td>2003</td>\n",
       "      <td>35193</td>\n",
       "      <td>5</td>\n",
       "    </tr>\n",
       "    <tr>\n",
       "      <th>72</th>\n",
       "      <td>basil garlic butter</td>\n",
       "      <td>32311</td>\n",
       "      <td>2002</td>\n",
       "      <td>35193</td>\n",
       "      <td>5</td>\n",
       "    </tr>\n",
       "    <tr>\n",
       "      <th>96</th>\n",
       "      <td>beer marinated shrimp</td>\n",
       "      <td>36315</td>\n",
       "      <td>2002</td>\n",
       "      <td>35193</td>\n",
       "      <td>5</td>\n",
       "    </tr>\n",
       "    <tr>\n",
       "      <th>...</th>\n",
       "      <td>...</td>\n",
       "      <td>...</td>\n",
       "      <td>...</td>\n",
       "      <td>...</td>\n",
       "      <td>...</td>\n",
       "    </tr>\n",
       "    <tr>\n",
       "      <th>1984095</th>\n",
       "      <td>zucchini carrot cupcakes</td>\n",
       "      <td>468621</td>\n",
       "      <td>2011</td>\n",
       "      <td>135887</td>\n",
       "      <td>2</td>\n",
       "    </tr>\n",
       "    <tr>\n",
       "      <th>1984119</th>\n",
       "      <td>zucchini lemon bread</td>\n",
       "      <td>120742</td>\n",
       "      <td>2005</td>\n",
       "      <td>212714</td>\n",
       "      <td>0</td>\n",
       "    </tr>\n",
       "    <tr>\n",
       "      <th>1984120</th>\n",
       "      <td>zucchini with serrano ham</td>\n",
       "      <td>162411</td>\n",
       "      <td>2006</td>\n",
       "      <td>152500</td>\n",
       "      <td>4</td>\n",
       "    </tr>\n",
       "    <tr>\n",
       "      <th>1984121</th>\n",
       "      <td>zucchini with serrano ham</td>\n",
       "      <td>162411</td>\n",
       "      <td>2006</td>\n",
       "      <td>152500</td>\n",
       "      <td>3</td>\n",
       "    </tr>\n",
       "    <tr>\n",
       "      <th>1984122</th>\n",
       "      <td>zucchini with serrano ham</td>\n",
       "      <td>162411</td>\n",
       "      <td>2006</td>\n",
       "      <td>152500</td>\n",
       "      <td>5</td>\n",
       "    </tr>\n",
       "  </tbody>\n",
       "</table>\n",
       "<p>69633 rows × 5 columns</p>\n",
       "</div>"
      ],
      "text/plain": [
       "                                           name      id  year  user_id  rating\n",
       "0         george s at the cove  black bean soup   44123  2002    35193       5\n",
       "24       allegedly original cobb salad dressing   39189  2002    35193       5\n",
       "48                      basic cake  gluten free   52100  2003    35193       5\n",
       "72                          basil garlic butter   32311  2002    35193       5\n",
       "96                        beer marinated shrimp   36315  2002    35193       5\n",
       "...                                         ...     ...   ...      ...     ...\n",
       "1984095                zucchini carrot cupcakes  468621  2011   135887       2\n",
       "1984119                    zucchini lemon bread  120742  2005   212714       0\n",
       "1984120               zucchini with serrano ham  162411  2006   152500       4\n",
       "1984121               zucchini with serrano ham  162411  2006   152500       3\n",
       "1984122               zucchini with serrano ham  162411  2006   152500       5\n",
       "\n",
       "[69633 rows x 5 columns]"
      ]
     },
     "execution_count": 26,
     "metadata": {},
     "output_type": "execute_result"
    }
   ],
   "source": [
    "recipes_reviews = pd.merge(recipes, reviews, left_on = 'contributor_id', right_on = 'user_id')\n",
    "recipes_reviews.drop(['minutes', 'contributor_id', 'submitted', 'n_steps', 'description', 'n_ingredients', 'recipe_id', 'date', 'review'], \n",
    "                     axis = 1, inplace = True)\n",
    "recipes_reviews = recipes_reviews.drop_duplicates()\n",
    "recipes_reviews"
   ]
  },
  {
   "cell_type": "code",
   "execution_count": 27,
   "metadata": {},
   "outputs": [
    {
     "data": {
      "text/html": [
       "<div>\n",
       "<style scoped>\n",
       "    .dataframe tbody tr th:only-of-type {\n",
       "        vertical-align: middle;\n",
       "    }\n",
       "\n",
       "    .dataframe tbody tr th {\n",
       "        vertical-align: top;\n",
       "    }\n",
       "\n",
       "    .dataframe thead th {\n",
       "        text-align: right;\n",
       "    }\n",
       "</style>\n",
       "<table border=\"1\" class=\"dataframe\">\n",
       "  <thead>\n",
       "    <tr style=\"text-align: right;\">\n",
       "      <th></th>\n",
       "      <th>name</th>\n",
       "      <th>id</th>\n",
       "      <th>minutes</th>\n",
       "      <th>contributor_id</th>\n",
       "      <th>submitted</th>\n",
       "      <th>n_steps</th>\n",
       "      <th>description</th>\n",
       "      <th>n_ingredients</th>\n",
       "      <th>year</th>\n",
       "    </tr>\n",
       "  </thead>\n",
       "  <tbody>\n",
       "    <tr>\n",
       "      <th>26</th>\n",
       "      <td>pasta  with shrimp   eggplant</td>\n",
       "      <td>223349</td>\n",
       "      <td>50</td>\n",
       "      <td>452592</td>\n",
       "      <td>2007-04-18</td>\n",
       "      <td>7.0</td>\n",
       "      <td>a nice low carb way to feel like you are eatin...</td>\n",
       "      <td>9.0</td>\n",
       "      <td>2007</td>\n",
       "    </tr>\n",
       "    <tr>\n",
       "      <th>29</th>\n",
       "      <td>secret ingredient  bbq meatloaf</td>\n",
       "      <td>342620</td>\n",
       "      <td>75</td>\n",
       "      <td>50969</td>\n",
       "      <td>2008-12-09</td>\n",
       "      <td>9.0</td>\n",
       "      <td>i know what you might be thinking,'ho hum, ano...</td>\n",
       "      <td>10.0</td>\n",
       "      <td>2008</td>\n",
       "    </tr>\n",
       "    <tr>\n",
       "      <th>35</th>\n",
       "      <td>windy s  sweet and sour meatballs</td>\n",
       "      <td>276594</td>\n",
       "      <td>50</td>\n",
       "      <td>341338</td>\n",
       "      <td>2008-01-05</td>\n",
       "      <td>6.0</td>\n",
       "      <td>whenever we had a potluck lunch at the office ...</td>\n",
       "      <td>14.0</td>\n",
       "      <td>2008</td>\n",
       "    </tr>\n",
       "    <tr>\n",
       "      <th>49</th>\n",
       "      <td>goulashy  beef stew for the slow cooker</td>\n",
       "      <td>216068</td>\n",
       "      <td>430</td>\n",
       "      <td>446143</td>\n",
       "      <td>2007-03-10</td>\n",
       "      <td>NaN</td>\n",
       "      <td>noodle beef stew in the slow cooker...easy com...</td>\n",
       "      <td>13.0</td>\n",
       "      <td>2007</td>\n",
       "    </tr>\n",
       "    <tr>\n",
       "      <th>59</th>\n",
       "      <td>old bay  grilled steak fries</td>\n",
       "      <td>306590</td>\n",
       "      <td>20</td>\n",
       "      <td>337736</td>\n",
       "      <td>2008-05-31</td>\n",
       "      <td>NaN</td>\n",
       "      <td>found this in a magazine, yet to try, but look...</td>\n",
       "      <td>15.0</td>\n",
       "      <td>2008</td>\n",
       "    </tr>\n",
       "  </tbody>\n",
       "</table>\n",
       "</div>"
      ],
      "text/plain": [
       "                                       name      id  minutes  contributor_id  \\\n",
       "26            pasta  with shrimp   eggplant  223349       50          452592   \n",
       "29          secret ingredient  bbq meatloaf  342620       75           50969   \n",
       "35        windy s  sweet and sour meatballs  276594       50          341338   \n",
       "49  goulashy  beef stew for the slow cooker  216068      430          446143   \n",
       "59             old bay  grilled steak fries  306590       20          337736   \n",
       "\n",
       "    submitted  n_steps                                        description  \\\n",
       "26 2007-04-18      7.0  a nice low carb way to feel like you are eatin...   \n",
       "29 2008-12-09      9.0  i know what you might be thinking,'ho hum, ano...   \n",
       "35 2008-01-05      6.0  whenever we had a potluck lunch at the office ...   \n",
       "49 2007-03-10      NaN  noodle beef stew in the slow cooker...easy com...   \n",
       "59 2008-05-31      NaN  found this in a magazine, yet to try, but look...   \n",
       "\n",
       "    n_ingredients  year  \n",
       "26            9.0  2007  \n",
       "29           10.0  2008  \n",
       "35           14.0  2008  \n",
       "49           13.0  2007  \n",
       "59           15.0  2008  "
      ]
     },
     "execution_count": 27,
     "metadata": {},
     "output_type": "execute_result"
    }
   ],
   "source": [
    "recipes[-(recipes['id'].isin(reviews['recipe_id']))].head()"
   ]
  },
  {
   "cell_type": "code",
   "execution_count": 28,
   "metadata": {},
   "outputs": [
    {
     "data": {
      "text/html": [
       "<div>\n",
       "<style scoped>\n",
       "    .dataframe tbody tr th:only-of-type {\n",
       "        vertical-align: middle;\n",
       "    }\n",
       "\n",
       "    .dataframe tbody tr th {\n",
       "        vertical-align: top;\n",
       "    }\n",
       "\n",
       "    .dataframe thead th {\n",
       "        text-align: right;\n",
       "    }\n",
       "</style>\n",
       "<table border=\"1\" class=\"dataframe\">\n",
       "  <thead>\n",
       "    <tr style=\"text-align: right;\">\n",
       "      <th></th>\n",
       "      <th>name</th>\n",
       "      <th>id</th>\n",
       "      <th>year</th>\n",
       "      <th>user_id</th>\n",
       "      <th>rating</th>\n",
       "    </tr>\n",
       "  </thead>\n",
       "  <tbody>\n",
       "  </tbody>\n",
       "</table>\n",
       "</div>"
      ],
      "text/plain": [
       "Empty DataFrame\n",
       "Columns: [name, id, year, user_id, rating]\n",
       "Index: []"
      ]
     },
     "execution_count": 28,
     "metadata": {},
     "output_type": "execute_result"
    }
   ],
   "source": [
    "recipes_reviews[recipes_reviews['id'] == 22349]"
   ]
  },
  {
   "cell_type": "markdown",
   "metadata": {},
   "source": [
    "6.2 При помощи объединения таблиц и группировок, создайте `DataFrame`, состоящий из трех столбцов: `recipe_id`, `name`, `review_count`, где столбец `review_count` содержит кол-во отзывов, оставленных на рецепт `recipe_id`. У рецептов, на которые не оставлен ни один отзыв, в столбце `review_count` должен быть указан 0. Подтвердите правильность работы вашего кода, выбрав рецепт, не имеющий отзывов, и найдя строку, соответствующую этому рецепту, в полученном `DataFrame`."
   ]
  },
  {
   "cell_type": "code",
   "execution_count": 29,
   "metadata": {},
   "outputs": [
    {
     "data": {
      "text/html": [
       "<div>\n",
       "<style scoped>\n",
       "    .dataframe tbody tr th:only-of-type {\n",
       "        vertical-align: middle;\n",
       "    }\n",
       "\n",
       "    .dataframe tbody tr th {\n",
       "        vertical-align: top;\n",
       "    }\n",
       "\n",
       "    .dataframe thead th {\n",
       "        text-align: right;\n",
       "    }\n",
       "</style>\n",
       "<table border=\"1\" class=\"dataframe\">\n",
       "  <thead>\n",
       "    <tr style=\"text-align: right;\">\n",
       "      <th></th>\n",
       "      <th></th>\n",
       "      <th>year</th>\n",
       "      <th>review</th>\n",
       "    </tr>\n",
       "    <tr>\n",
       "      <th>name</th>\n",
       "      <th>id</th>\n",
       "      <th></th>\n",
       "      <th></th>\n",
       "    </tr>\n",
       "  </thead>\n",
       "  <tbody>\n",
       "    <tr>\n",
       "      <th>0 fat chunky watermelon salsa</th>\n",
       "      <th>176996</th>\n",
       "      <td>1</td>\n",
       "      <td>1</td>\n",
       "    </tr>\n",
       "    <tr>\n",
       "      <th>1 001 nights cake</th>\n",
       "      <th>111198</th>\n",
       "      <td>3</td>\n",
       "      <td>3</td>\n",
       "    </tr>\n",
       "    <tr>\n",
       "      <th>1 1 1 tempura batter</th>\n",
       "      <th>164636</th>\n",
       "      <td>13</td>\n",
       "      <td>13</td>\n",
       "    </tr>\n",
       "    <tr>\n",
       "      <th>1 2 3 4 cake  orange</th>\n",
       "      <th>165438</th>\n",
       "      <td>2</td>\n",
       "      <td>2</td>\n",
       "    </tr>\n",
       "    <tr>\n",
       "      <th>1 2 3 bread</th>\n",
       "      <th>33246</th>\n",
       "      <td>2</td>\n",
       "      <td>2</td>\n",
       "    </tr>\n",
       "    <tr>\n",
       "      <th>...</th>\n",
       "      <th>...</th>\n",
       "      <td>...</td>\n",
       "      <td>...</td>\n",
       "    </tr>\n",
       "    <tr>\n",
       "      <th>zuppa by luisa</th>\n",
       "      <th>464576</th>\n",
       "      <td>3</td>\n",
       "      <td>3</td>\n",
       "    </tr>\n",
       "    <tr>\n",
       "      <th>zurie s holey rustic olive and cheddar bread</th>\n",
       "      <th>267661</th>\n",
       "      <td>4</td>\n",
       "      <td>4</td>\n",
       "    </tr>\n",
       "    <tr>\n",
       "      <th>zwetschgenkuchen  bavarian plum cake</th>\n",
       "      <th>386977</th>\n",
       "      <td>2</td>\n",
       "      <td>2</td>\n",
       "    </tr>\n",
       "    <tr>\n",
       "      <th>zwiebelkuchen   southwest german onion cake</th>\n",
       "      <th>103312</th>\n",
       "      <td>6</td>\n",
       "      <td>6</td>\n",
       "    </tr>\n",
       "    <tr>\n",
       "      <th>zydeco soup</th>\n",
       "      <th>486161</th>\n",
       "      <td>6</td>\n",
       "      <td>6</td>\n",
       "    </tr>\n",
       "  </tbody>\n",
       "</table>\n",
       "<p>30000 rows × 2 columns</p>\n",
       "</div>"
      ],
      "text/plain": [
       "                                                     year  review\n",
       "name                                         id                  \n",
       "0 fat chunky watermelon salsa                176996     1       1\n",
       "1 001 nights cake                            111198     3       3\n",
       "1 1 1 tempura batter                         164636    13      13\n",
       "1 2 3 4 cake  orange                         165438     2       2\n",
       "1 2 3 bread                                  33246      2       2\n",
       "...                                                   ...     ...\n",
       "zuppa by luisa                               464576     3       3\n",
       "zurie s holey rustic olive and cheddar bread 267661     4       4\n",
       "zwetschgenkuchen  bavarian plum cake         386977     2       2\n",
       "zwiebelkuchen   southwest german onion cake  103312     6       6\n",
       "zydeco soup                                  486161     6       6\n",
       "\n",
       "[30000 rows x 2 columns]"
      ]
     },
     "execution_count": 29,
     "metadata": {},
     "output_type": "execute_result"
    }
   ],
   "source": [
    "recipes_reviews_count = pd.merge(recipes, reviews, left_on = 'id', right_on = 'recipe_id', how='left')\n",
    "recipes_reviews_count.drop(['recipe_id','minutes', 'contributor_id', 'submitted', 'n_steps', 'description', 'n_ingredients', 'date', 'rating', 'user_id'],\n",
    "                           axis = 1, inplace = True)\n",
    "recipes_reviews_count = recipes_reviews_count.groupby(['name', 'id']).count()\n",
    "recipes_reviews_count"
   ]
  },
  {
   "cell_type": "code",
   "execution_count": 30,
   "metadata": {},
   "outputs": [
    {
     "data": {
      "text/html": [
       "<div>\n",
       "<style scoped>\n",
       "    .dataframe tbody tr th:only-of-type {\n",
       "        vertical-align: middle;\n",
       "    }\n",
       "\n",
       "    .dataframe tbody tr th {\n",
       "        vertical-align: top;\n",
       "    }\n",
       "\n",
       "    .dataframe thead th {\n",
       "        text-align: right;\n",
       "    }\n",
       "</style>\n",
       "<table border=\"1\" class=\"dataframe\">\n",
       "  <thead>\n",
       "    <tr style=\"text-align: right;\">\n",
       "      <th></th>\n",
       "      <th>name</th>\n",
       "      <th>id</th>\n",
       "      <th>year</th>\n",
       "      <th>review</th>\n",
       "    </tr>\n",
       "  </thead>\n",
       "  <tbody>\n",
       "    <tr>\n",
       "      <th>0</th>\n",
       "      <td>0 fat chunky watermelon salsa</td>\n",
       "      <td>176996</td>\n",
       "      <td>1</td>\n",
       "      <td>1</td>\n",
       "    </tr>\n",
       "    <tr>\n",
       "      <th>1</th>\n",
       "      <td>1 001 nights cake</td>\n",
       "      <td>111198</td>\n",
       "      <td>3</td>\n",
       "      <td>3</td>\n",
       "    </tr>\n",
       "    <tr>\n",
       "      <th>2</th>\n",
       "      <td>1 1 1 tempura batter</td>\n",
       "      <td>164636</td>\n",
       "      <td>13</td>\n",
       "      <td>13</td>\n",
       "    </tr>\n",
       "    <tr>\n",
       "      <th>3</th>\n",
       "      <td>1 2 3 4 cake  orange</td>\n",
       "      <td>165438</td>\n",
       "      <td>2</td>\n",
       "      <td>2</td>\n",
       "    </tr>\n",
       "    <tr>\n",
       "      <th>4</th>\n",
       "      <td>1 2 3 bread</td>\n",
       "      <td>33246</td>\n",
       "      <td>2</td>\n",
       "      <td>2</td>\n",
       "    </tr>\n",
       "    <tr>\n",
       "      <th>...</th>\n",
       "      <td>...</td>\n",
       "      <td>...</td>\n",
       "      <td>...</td>\n",
       "      <td>...</td>\n",
       "    </tr>\n",
       "    <tr>\n",
       "      <th>29995</th>\n",
       "      <td>zuppa by luisa</td>\n",
       "      <td>464576</td>\n",
       "      <td>3</td>\n",
       "      <td>3</td>\n",
       "    </tr>\n",
       "    <tr>\n",
       "      <th>29996</th>\n",
       "      <td>zurie s holey rustic olive and cheddar bread</td>\n",
       "      <td>267661</td>\n",
       "      <td>4</td>\n",
       "      <td>4</td>\n",
       "    </tr>\n",
       "    <tr>\n",
       "      <th>29997</th>\n",
       "      <td>zwetschgenkuchen  bavarian plum cake</td>\n",
       "      <td>386977</td>\n",
       "      <td>2</td>\n",
       "      <td>2</td>\n",
       "    </tr>\n",
       "    <tr>\n",
       "      <th>29998</th>\n",
       "      <td>zwiebelkuchen   southwest german onion cake</td>\n",
       "      <td>103312</td>\n",
       "      <td>6</td>\n",
       "      <td>6</td>\n",
       "    </tr>\n",
       "    <tr>\n",
       "      <th>29999</th>\n",
       "      <td>zydeco soup</td>\n",
       "      <td>486161</td>\n",
       "      <td>6</td>\n",
       "      <td>6</td>\n",
       "    </tr>\n",
       "  </tbody>\n",
       "</table>\n",
       "<p>30000 rows × 4 columns</p>\n",
       "</div>"
      ],
      "text/plain": [
       "                                               name      id  year  review\n",
       "0                     0 fat chunky watermelon salsa  176996     1       1\n",
       "1                                 1 001 nights cake  111198     3       3\n",
       "2                              1 1 1 tempura batter  164636    13      13\n",
       "3                              1 2 3 4 cake  orange  165438     2       2\n",
       "4                                       1 2 3 bread   33246     2       2\n",
       "...                                             ...     ...   ...     ...\n",
       "29995                                zuppa by luisa  464576     3       3\n",
       "29996  zurie s holey rustic olive and cheddar bread  267661     4       4\n",
       "29997          zwetschgenkuchen  bavarian plum cake  386977     2       2\n",
       "29998   zwiebelkuchen   southwest german onion cake  103312     6       6\n",
       "29999                                   zydeco soup  486161     6       6\n",
       "\n",
       "[30000 rows x 4 columns]"
      ]
     },
     "execution_count": 30,
     "metadata": {},
     "output_type": "execute_result"
    }
   ],
   "source": [
    "recipes_reviews_count.reset_index(inplace=True)\n",
    "recipes_reviews_count"
   ]
  },
  {
   "cell_type": "code",
   "execution_count": 31,
   "metadata": {},
   "outputs": [
    {
     "data": {
      "text/html": [
       "<div>\n",
       "<style scoped>\n",
       "    .dataframe tbody tr th:only-of-type {\n",
       "        vertical-align: middle;\n",
       "    }\n",
       "\n",
       "    .dataframe tbody tr th {\n",
       "        vertical-align: top;\n",
       "    }\n",
       "\n",
       "    .dataframe thead th {\n",
       "        text-align: right;\n",
       "    }\n",
       "</style>\n",
       "<table border=\"1\" class=\"dataframe\">\n",
       "  <thead>\n",
       "    <tr style=\"text-align: right;\">\n",
       "      <th></th>\n",
       "      <th>recipe_id</th>\n",
       "      <th>name</th>\n",
       "      <th>review_count</th>\n",
       "    </tr>\n",
       "  </thead>\n",
       "  <tbody>\n",
       "    <tr>\n",
       "      <th>0</th>\n",
       "      <td>176996</td>\n",
       "      <td>0 fat chunky watermelon salsa</td>\n",
       "      <td>1</td>\n",
       "    </tr>\n",
       "    <tr>\n",
       "      <th>1</th>\n",
       "      <td>111198</td>\n",
       "      <td>1 001 nights cake</td>\n",
       "      <td>3</td>\n",
       "    </tr>\n",
       "    <tr>\n",
       "      <th>2</th>\n",
       "      <td>164636</td>\n",
       "      <td>1 1 1 tempura batter</td>\n",
       "      <td>13</td>\n",
       "    </tr>\n",
       "    <tr>\n",
       "      <th>3</th>\n",
       "      <td>165438</td>\n",
       "      <td>1 2 3 4 cake  orange</td>\n",
       "      <td>2</td>\n",
       "    </tr>\n",
       "    <tr>\n",
       "      <th>4</th>\n",
       "      <td>33246</td>\n",
       "      <td>1 2 3 bread</td>\n",
       "      <td>2</td>\n",
       "    </tr>\n",
       "    <tr>\n",
       "      <th>...</th>\n",
       "      <td>...</td>\n",
       "      <td>...</td>\n",
       "      <td>...</td>\n",
       "    </tr>\n",
       "    <tr>\n",
       "      <th>29995</th>\n",
       "      <td>464576</td>\n",
       "      <td>zuppa by luisa</td>\n",
       "      <td>3</td>\n",
       "    </tr>\n",
       "    <tr>\n",
       "      <th>29996</th>\n",
       "      <td>267661</td>\n",
       "      <td>zurie s holey rustic olive and cheddar bread</td>\n",
       "      <td>4</td>\n",
       "    </tr>\n",
       "    <tr>\n",
       "      <th>29997</th>\n",
       "      <td>386977</td>\n",
       "      <td>zwetschgenkuchen  bavarian plum cake</td>\n",
       "      <td>2</td>\n",
       "    </tr>\n",
       "    <tr>\n",
       "      <th>29998</th>\n",
       "      <td>103312</td>\n",
       "      <td>zwiebelkuchen   southwest german onion cake</td>\n",
       "      <td>6</td>\n",
       "    </tr>\n",
       "    <tr>\n",
       "      <th>29999</th>\n",
       "      <td>486161</td>\n",
       "      <td>zydeco soup</td>\n",
       "      <td>6</td>\n",
       "    </tr>\n",
       "  </tbody>\n",
       "</table>\n",
       "<p>30000 rows × 3 columns</p>\n",
       "</div>"
      ],
      "text/plain": [
       "       recipe_id                                          name  review_count\n",
       "0         176996                 0 fat chunky watermelon salsa             1\n",
       "1         111198                             1 001 nights cake             3\n",
       "2         164636                          1 1 1 tempura batter            13\n",
       "3         165438                          1 2 3 4 cake  orange             2\n",
       "4          33246                                   1 2 3 bread             2\n",
       "...          ...                                           ...           ...\n",
       "29995     464576                                zuppa by luisa             3\n",
       "29996     267661  zurie s holey rustic olive and cheddar bread             4\n",
       "29997     386977          zwetschgenkuchen  bavarian plum cake             2\n",
       "29998     103312   zwiebelkuchen   southwest german onion cake             6\n",
       "29999     486161                                   zydeco soup             6\n",
       "\n",
       "[30000 rows x 3 columns]"
      ]
     },
     "execution_count": 31,
     "metadata": {},
     "output_type": "execute_result"
    }
   ],
   "source": [
    "recipes_reviews_count = recipes_reviews_count[['id', 'name', 'review']]\n",
    "recipes_reviews_count.columns = ['recipe_id', 'name', 'review_count']\n",
    "recipes_reviews_count"
   ]
  },
  {
   "cell_type": "markdown",
   "metadata": {},
   "source": [
    "6.3. Выясните, рецепты, добавленные в каком году, имеют наименьший средний рейтинг?"
   ]
  },
  {
   "cell_type": "code",
   "execution_count": 32,
   "metadata": {},
   "outputs": [],
   "source": [
    "recipes_reviews_rating = pd.merge(recipes, reviews, left_on = 'id', right_on = 'recipe_id')\n",
    "recipes_reviews_rating.drop(['minutes', 'contributor_id', 'n_steps', 'description', 'n_ingredients', 'recipe_id', 'date', 'review', 'user_id'], axis = 1, inplace = True)\n",
    "recipes_reviews_rating['submitted'] = pd.to_datetime(recipes_reviews_rating['submitted'], format = '%Y-%m-%d')\n",
    "recipes_reviews_rating['year'] = recipes_reviews_rating['submitted'].dt.year"
   ]
  },
  {
   "cell_type": "code",
   "execution_count": 33,
   "metadata": {},
   "outputs": [
    {
     "data": {
      "text/plain": [
       "2017"
      ]
     },
     "execution_count": 33,
     "metadata": {},
     "output_type": "execute_result"
    }
   ],
   "source": [
    "recipes_reviews_rating.groupby('year')['rating'].mean().sort_values().index[0]"
   ]
  },
  {
   "cell_type": "markdown",
   "metadata": {},
   "source": [
    "### Сохранение таблиц `pd.DataFrame`"
   ]
  },
  {
   "cell_type": "markdown",
   "metadata": {},
   "source": [
    "7.1 Отсортируйте результат выполнения задания 6.1 в порядке убывания величины столбца `id` и сохраните результаты в csv файл. "
   ]
  },
  {
   "cell_type": "code",
   "execution_count": 34,
   "metadata": {},
   "outputs": [],
   "source": [
    "recipes_reviews.sort_values('id', ascending = False).to_csv('recipes_reviews.csv', index=False)"
   ]
  },
  {
   "cell_type": "markdown",
   "metadata": {},
   "source": [
    "7.2 Воспользовавшись `pd.ExcelWriter`, cохраните результаты 6.1 и 6.2 в файл: на лист с названием `Рецепты с оценками` сохраните результаты выполнения 6.1; на лист с названием `Количество отзывов по рецептам` сохраните результаты выполнения 6.2."
   ]
  },
  {
   "cell_type": "code",
   "execution_count": 35,
   "metadata": {},
   "outputs": [],
   "source": [
    "with pd.ExcelWriter('recipes_reviews_rating.xlsx') as writer:\n",
    "    recipes_reviews.to_excel(writer, sheet_name=\"Рецепты с оценками\")\n",
    "    recipes_reviews_count.to_excel(writer, sheet_name=\"Количество отзывов по рецептам\")"
   ]
  }
 ],
 "metadata": {
  "kernelspec": {
   "display_name": "Python 3",
   "language": "python",
   "name": "python3"
  },
  "language_info": {
   "codemirror_mode": {
    "name": "ipython",
    "version": 3
   },
   "file_extension": ".py",
   "mimetype": "text/x-python",
   "name": "python",
   "nbconvert_exporter": "python",
   "pygments_lexer": "ipython3",
   "version": "3.8.3"
  }
 },
 "nbformat": 4,
 "nbformat_minor": 4
}
